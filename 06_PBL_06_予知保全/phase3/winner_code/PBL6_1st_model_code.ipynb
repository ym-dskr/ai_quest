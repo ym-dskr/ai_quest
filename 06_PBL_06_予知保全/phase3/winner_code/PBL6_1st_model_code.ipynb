{
  "cells": [
    {
      "cell_type": "markdown",
      "metadata": {
        "id": "_VDIV8AfAFNg",
        "tags": []
      },
      "source": [
        "# AI Quest 2021 PBL06"
      ]
    },
    {
      "cell_type": "markdown",
      "metadata": {
        "tags": [],
        "id": "UnpIC3LHA48m"
      },
      "source": [
        "## データダウンロード"
      ]
    },
    {
      "cell_type": "markdown",
      "metadata": {
        "id": "hBuEGLQ5orB-",
        "tags": []
      },
      "source": [
        "### signateのtoken登録"
      ]
    },
    {
      "cell_type": "code",
      "source": [
        "from google.colab import drive\n",
        "drive.mount('/content/drive')"
      ],
      "metadata": {
        "colab": {
          "base_uri": "https://localhost:8080/"
        },
        "id": "NQ6EeAhnBBoH",
        "outputId": "c4012a66-4b23-41c2-f57b-09863b040ec4"
      },
      "execution_count": 1,
      "outputs": [
        {
          "output_type": "stream",
          "name": "stdout",
          "text": [
            "Drive already mounted at /content/drive; to attempt to forcibly remount, call drive.mount(\"/content/drive\", force_remount=True).\n"
          ]
        }
      ]
    },
    {
      "cell_type": "code",
      "execution_count": 2,
      "metadata": {
        "colab": {
          "base_uri": "https://localhost:8080/",
          "height": 53
        },
        "id": "STs7bCFQTZ4g",
        "outputId": "7d7ae408-a7f7-4668-b64c-4c0a1ef0deba"
      },
      "outputs": [
        {
          "output_type": "stream",
          "name": "stdout",
          "text": [
            "Requirement already satisfied: tabulate in /usr/local/lib/python3.7/dist-packages (from signate) (0.8.9)\n"
          ]
        },
        {
          "output_type": "execute_result",
          "data": {
            "application/vnd.google.colaboratory.intrinsic+json": {
              "type": "string"
            },
            "text/plain": [
              "'/root/.signate/signate.json'"
            ]
          },
          "metadata": {},
          "execution_count": 2
        }
      ],
      "source": [
        "!pip install signate | tail -n 1\n",
        "\n",
        "import os, shutil\n",
        "\n",
        "gdrive='/content/drive/MyDrive/Colab Notebooks'\n",
        "token=f'{gdrive}/signate.json'\n",
        "deploy='/root/.signate'\n",
        "os.makedirs(deploy, exist_ok=True)\n",
        "shutil.copyfile(token, f'{deploy}/signate.json')"
      ]
    },
    {
      "cell_type": "code",
      "execution_count": 3,
      "metadata": {
        "id": "e0E1k7KoA48s"
      },
      "outputs": [],
      "source": [
        "download_flag = False"
      ]
    },
    {
      "cell_type": "markdown",
      "metadata": {
        "id": "KVXX3lfRA48t"
      },
      "source": [
        "### PBLリスト表示"
      ]
    },
    {
      "cell_type": "code",
      "execution_count": 4,
      "metadata": {
        "id": "y-QkcyaPZMlg"
      },
      "outputs": [],
      "source": [
        "if download_flag:\n",
        "    !signate list | grep PBL"
      ]
    },
    {
      "cell_type": "markdown",
      "metadata": {
        "id": "Swh7b0psA48w"
      },
      "source": [
        "### PBL06 AI課題ファイルリスト表示"
      ]
    },
    {
      "cell_type": "code",
      "execution_count": 5,
      "metadata": {
        "id": "GDiD6mP9Zp0X"
      },
      "outputs": [],
      "source": [
        "competition_id=527\n",
        "if download_flag:\n",
        "    !signate files --competition-id={competition_id}"
      ]
    },
    {
      "cell_type": "markdown",
      "metadata": {
        "id": "iZI0yLI_A480"
      },
      "source": [
        "### PBL06 AI課題ダウンロード"
      ]
    },
    {
      "cell_type": "code",
      "execution_count": 6,
      "metadata": {
        "id": "25mAMdKH3ZBe"
      },
      "outputs": [],
      "source": [
        "own_dir = f'{gdrive}/AI_Quest_2021/PBL06'\n",
        "data_dir = f'{own_dir}/data'"
      ]
    },
    {
      "cell_type": "code",
      "execution_count": 7,
      "metadata": {
        "id": "YNJ0JQDMcz9q"
      },
      "outputs": [],
      "source": [
        "if download_flag:\n",
        "    os.makedirs(own_dir, exist_ok=True)\n",
        "    !signate download --competition-id={competition_id} --path=\"{data_dir}/\""
      ]
    },
    {
      "cell_type": "markdown",
      "metadata": {
        "id": "5iUq-HdpA484"
      },
      "source": [
        "### zipファイルの解凍"
      ]
    },
    {
      "cell_type": "code",
      "execution_count": 8,
      "metadata": {
        "tags": [],
        "id": "spfLGFFpA485"
      },
      "outputs": [],
      "source": [
        "if download_flag:\n",
        "    !unzip -o \"{data_dir}/train.zip\" -d \"{data_dir}\"\n",
        "    !unzip -o \"{data_dir}/test.zip\" -d \"{data_dir}\""
      ]
    },
    {
      "cell_type": "markdown",
      "metadata": {
        "id": "7MeB9Ex3_NfP"
      },
      "source": [
        "## 前処理"
      ]
    },
    {
      "cell_type": "markdown",
      "metadata": {
        "tags": [],
        "id": "jwk18XWGA487"
      },
      "source": [
        "### データ読み込み"
      ]
    },
    {
      "cell_type": "code",
      "execution_count": 9,
      "metadata": {
        "id": "fJVdnSiRA487"
      },
      "outputs": [],
      "source": [
        "raw_data_read_flag = False"
      ]
    },
    {
      "cell_type": "code",
      "execution_count": 10,
      "metadata": {
        "id": "dxk03zSdQ01A"
      },
      "outputs": [],
      "source": [
        "import glob\n",
        "import pandas as pd\n",
        "\n",
        "if raw_data_read_flag:\n",
        "    normal_fps = glob.glob(f'{data_dir}/train/normal/*')\n",
        "    anomaly_fps = glob.glob(f'{data_dir}/train/anomaly/*')\n",
        "    test_fps = glob.glob(f'{data_dir}/test/*')\n",
        "    sample_submit = pd.read_csv(f'{data_dir}/sample_submission.csv', header=None)\n",
        "    len(normal_fps), len(anomaly_fps), len(test_fps)"
      ]
    },
    {
      "cell_type": "code",
      "execution_count": 11,
      "metadata": {
        "id": "QundmkEb0jsk",
        "colab": {
          "base_uri": "https://localhost:8080/"
        },
        "outputId": "18fb089a-7a00-45be-8a34-a13512cdadad"
      },
      "outputs": [
        {
          "output_type": "execute_result",
          "data": {
            "text/plain": [
              "50000"
            ]
          },
          "metadata": {},
          "execution_count": 11
        }
      ],
      "source": [
        "sampling_rate = 50000  # 50kHz\n",
        "sampling_rate"
      ]
    },
    {
      "cell_type": "code",
      "execution_count": 12,
      "metadata": {
        "id": "dlaT3SJfA48-"
      },
      "outputs": [],
      "source": [
        "def read_csv_wave(fps):\n",
        "    dfs = []\n",
        "    for fp in fps:\n",
        "        df = pd.read_csv(fp, header=None)\n",
        "        df.index /= sampling_rate\n",
        "        df = df.rename(columns=lambda s: f'ACC{s+1}')\n",
        "        df = df.rename(columns={'ACC7': 'AE'})\n",
        "        dfs.append(df)\n",
        "    sum_df = pd.concat(dfs, axis=1, keys=[os.path.basename(fp) for fp in fps])\n",
        "    sum_df = sum_df.sort_index(axis=1, level=0)\n",
        "    sum_df = sum_df.interpolate(limit_direction='both')\n",
        "    return sum_df"
      ]
    },
    {
      "cell_type": "code",
      "execution_count": 13,
      "metadata": {
        "colab": {
          "base_uri": "https://localhost:8080/"
        },
        "id": "s9gg0JanA48_",
        "outputId": "3ae72887-29a8-4887-c5f4-46ba8ed3749b"
      },
      "outputs": [
        {
          "output_type": "stream",
          "name": "stdout",
          "text": [
            "CPU times: user 5 µs, sys: 0 ns, total: 5 µs\n",
            "Wall time: 9.54 µs\n"
          ]
        }
      ],
      "source": [
        "%%time\n",
        "if raw_data_read_flag:\n",
        "    norm_df = read_csv_wave(normal_fps)\n",
        "    anom_df = read_csv_wave(anomaly_fps)\n",
        "    test_df = read_csv_wave(test_fps)"
      ]
    },
    {
      "cell_type": "markdown",
      "metadata": {
        "tags": [],
        "id": "-S-vLgetA49A"
      },
      "source": [
        "#### 波形データをpickleで保存"
      ]
    },
    {
      "cell_type": "code",
      "execution_count": 14,
      "metadata": {
        "id": "fFUoOpyByz7q"
      },
      "outputs": [],
      "source": [
        "import pickle\n",
        "\n",
        "if raw_data_read_flag:\n",
        "    dct = {\n",
        "        'norm.pickle': norm_df,\n",
        "        'anom.pickle': anom_df,\n",
        "        'test.pickle': test_df,\n",
        "    }\n",
        "    for file_name, df in dct.items():\n",
        "        with open(f'{data_dir}/{file_name}', mode='wb') as f:\n",
        "            pickle.dump(df, f)"
      ]
    },
    {
      "cell_type": "markdown",
      "metadata": {
        "id": "y7bIDi0xA49B"
      },
      "source": [
        "#### 波形データをpickleから読み込み"
      ]
    },
    {
      "cell_type": "code",
      "execution_count": 15,
      "metadata": {
        "id": "GwMwYWPazZUI",
        "colab": {
          "base_uri": "https://localhost:8080/"
        },
        "outputId": "77046f64-a313-4105-c484-4949f48530ac"
      },
      "outputs": [
        {
          "output_type": "stream",
          "name": "stdout",
          "text": [
            "CPU times: user 414 ms, sys: 3.53 s, total: 3.94 s\n",
            "Wall time: 11.3 s\n"
          ]
        }
      ],
      "source": [
        "%%time\n",
        "import pickle\n",
        "\n",
        "if not raw_data_read_flag:\n",
        "    with open(f'{data_dir}/norm.pickle', mode='rb') as f:\n",
        "        norm_df = pickle.load(f)\n",
        "    with open(f'{data_dir}/anom.pickle', mode='rb') as f:\n",
        "        anom_df = pickle.load(f)\n",
        "    with open(f'{data_dir}/test.pickle', mode='rb') as f:\n",
        "        test_df = pickle.load(f)"
      ]
    },
    {
      "cell_type": "markdown",
      "metadata": {
        "id": "6yHPY9TZA49D"
      },
      "source": [
        "### tsfreshによる時系列データの特徴量生成"
      ]
    },
    {
      "cell_type": "markdown",
      "source": [
        "#### tsfresh解析用にデータ構成変更"
      ],
      "metadata": {
        "id": "MB16xorMOjOn"
      }
    },
    {
      "cell_type": "code",
      "source": [
        "tsfresh_run_flag = False"
      ],
      "metadata": {
        "id": "ISYI0VByQz8K"
      },
      "execution_count": 17,
      "outputs": []
    },
    {
      "cell_type": "code",
      "source": [
        "if tsfresh_run_flag:\n",
        "    rename_dict = {\n",
        "        'level_0': 'time',\n",
        "        'level_1': 'id',\n",
        "    }\n",
        "    for_tsfresh_dfs = []\n",
        "    for df in [norm_df, anom_df, test_df]:\n",
        "        temp_df = df.stack(level=0)\n",
        "        temp_df = temp_df.sort_index(level=1)\n",
        "        temp_df = temp_df.reset_index()\n",
        "        temp_df = temp_df.rename(columns=rename_dict)\n",
        "        for_tsfresh_dfs.append(temp_df)\n",
        "    for_tsfresh_df = pd.concat(for_tsfresh_dfs)\n",
        "    for_tsfresh_df = for_tsfresh_df.reset_index(drop=True)\n",
        "    for_tsfresh_df"
      ],
      "metadata": {
        "id": "Ix4MAcTsOV7_"
      },
      "execution_count": 18,
      "outputs": []
    },
    {
      "cell_type": "markdown",
      "source": [
        "#### tsfreshインストール"
      ],
      "metadata": {
        "id": "3SM6J1RwOqXU"
      }
    },
    {
      "cell_type": "code",
      "source": [
        "if tsfresh_run_flag:\n",
        "    !pip install tsfresh | tail -n 1"
      ],
      "metadata": {
        "id": "lO1GJlhLOQut"
      },
      "execution_count": 19,
      "outputs": []
    },
    {
      "cell_type": "markdown",
      "source": [
        "#### tsfresh実行（すごい時間かかる） & csvファイル保存"
      ],
      "metadata": {
        "id": "_RAbwJciOtG3"
      }
    },
    {
      "cell_type": "code",
      "execution_count": 20,
      "metadata": {
        "id": "aij4TBtp2Dts",
        "colab": {
          "base_uri": "https://localhost:8080/"
        },
        "outputId": "af64fd9f-8acb-4133-a0e9-dd106b65ca01"
      },
      "outputs": [
        {
          "output_type": "stream",
          "name": "stdout",
          "text": [
            "CPU times: user 4 µs, sys: 0 ns, total: 4 µs\n",
            "Wall time: 9.3 µs\n"
          ]
        }
      ],
      "source": [
        "%%time\n",
        "if tsfresh_run_flag:\n",
        "    from tsfresh import extract_features\n",
        "\n",
        "    extracted_features = []\n",
        "    # 一括で実行すると進捗が分からなかったため、id毎に解析を実行\n",
        "    for id_name in df['id'].unique():\n",
        "        one_df = df[df['id'] == id_name]\n",
        "        print(id_name)\n",
        "        extracted_features.append(extract_features(one_df[::3], column_id='id', column_sort='time'))\n",
        "\n",
        "    tsfresh_df = pd.concat(extracted_features)\n",
        "    tsfresh_df.to_csv(f'{data_dir}/pbl06_tsfresh.csv')\n",
        "    tsfresh_df"
      ]
    },
    {
      "cell_type": "code",
      "execution_count": 22,
      "metadata": {
        "colab": {
          "base_uri": "https://localhost:8080/"
        },
        "id": "CB8jApCVY6QO",
        "outputId": "7fd9677d-be5d-4d3f-958c-9e5e26a85f60"
      },
      "outputs": [
        {
          "output_type": "stream",
          "name": "stdout",
          "text": [
            "CPU times: user 3.16 s, sys: 105 ms, total: 3.27 s\n",
            "Wall time: 3.62 s\n"
          ]
        }
      ],
      "source": [
        "%%time\n",
        "if not tsfresh_run_flag:\n",
        "    tsfresh_df = pd.read_csv(f'{data_dir}/pbl06_tsfresh.csv', index_col=0)\n",
        "tsfresh_df"
      ]
    },
    {
      "cell_type": "markdown",
      "source": [
        "### nanを含む列の削除 & target列追加 & カラム名修正"
      ],
      "metadata": {
        "id": "HJnkLfEPR2ua"
      }
    },
    {
      "cell_type": "code",
      "source": [
        "import re\n",
        "\n",
        "df = tsfresh_df.copy()\n",
        "df = df.dropna(axis=1)\n",
        "df.loc[df.index.str.contains('normal'), 'target'] = 0\n",
        "df.loc[df.index.str.contains('anomaly'), 'target'] = 1\n",
        "df = df.rename(columns=lambda x:re.sub('[^A-Za-z0-9_\\-\\.]+', '', x))\n",
        "df"
      ],
      "metadata": {
        "colab": {
          "base_uri": "https://localhost:8080/",
          "height": 852
        },
        "id": "f6z-29fNRU1w",
        "outputId": "dc375944-9d27-443e-fb3c-8a3a6f808040"
      },
      "execution_count": 23,
      "outputs": [
        {
          "output_type": "stream",
          "name": "stderr",
          "text": [
            "/usr/local/lib/python3.7/dist-packages/pandas/core/indexing.py:1596: SettingWithCopyWarning: \n",
            "A value is trying to be set on a copy of a slice from a DataFrame.\n",
            "Try using .loc[row_indexer,col_indexer] = value instead\n",
            "\n",
            "See the caveats in the documentation: https://pandas.pydata.org/pandas-docs/stable/user_guide/indexing.html#returning-a-view-versus-a-copy\n",
            "  self.obj[key] = _infer_fill_value(value)\n",
            "/usr/local/lib/python3.7/dist-packages/pandas/core/indexing.py:1601: SettingWithCopyWarning: \n",
            "A value is trying to be set on a copy of a slice from a DataFrame\n",
            "\n",
            "See the caveats in the documentation: https://pandas.pydata.org/pandas-docs/stable/user_guide/indexing.html#returning-a-view-versus-a-copy\n",
            "  self._setitem_with_indexer(new_indexer, value)\n",
            "/usr/local/lib/python3.7/dist-packages/pandas/core/indexing.py:670: SettingWithCopyWarning: \n",
            "A value is trying to be set on a copy of a slice from a DataFrame\n",
            "\n",
            "See the caveats in the documentation: https://pandas.pydata.org/pandas-docs/stable/user_guide/indexing.html#returning-a-view-versus-a-copy\n",
            "  iloc._setitem_with_indexer(indexer, value)\n",
            "/usr/local/lib/python3.7/dist-packages/ipykernel_launcher.py:6: SettingWithCopyWarning: \n",
            "A value is trying to be set on a copy of a slice from a DataFrame\n",
            "\n",
            "See the caveats in the documentation: https://pandas.pydata.org/pandas-docs/stable/user_guide/indexing.html#returning-a-view-versus-a-copy\n",
            "  \n"
          ]
        },
        {
          "output_type": "execute_result",
          "data": {
            "text/html": [
              "\n",
              "  <div id=\"df-4b0604c5-39b3-4e1c-afc1-b6ea414c5caa\">\n",
              "    <div class=\"colab-df-container\">\n",
              "      <div>\n",
              "<style scoped>\n",
              "    .dataframe tbody tr th:only-of-type {\n",
              "        vertical-align: middle;\n",
              "    }\n",
              "\n",
              "    .dataframe tbody tr th {\n",
              "        vertical-align: top;\n",
              "    }\n",
              "\n",
              "    .dataframe thead th {\n",
              "        text-align: right;\n",
              "    }\n",
              "</style>\n",
              "<table border=\"1\" class=\"dataframe\">\n",
              "  <thead>\n",
              "    <tr style=\"text-align: right;\">\n",
              "      <th></th>\n",
              "      <th>ACC1__variance_larger_than_standard_deviation</th>\n",
              "      <th>ACC1__has_duplicate_max</th>\n",
              "      <th>ACC1__has_duplicate_min</th>\n",
              "      <th>ACC1__has_duplicate</th>\n",
              "      <th>ACC1__sum_values</th>\n",
              "      <th>ACC1__abs_energy</th>\n",
              "      <th>ACC1__mean_abs_change</th>\n",
              "      <th>ACC1__mean_change</th>\n",
              "      <th>ACC1__mean_second_derivative_central</th>\n",
              "      <th>ACC1__median</th>\n",
              "      <th>ACC1__mean</th>\n",
              "      <th>ACC1__length</th>\n",
              "      <th>ACC1__standard_deviation</th>\n",
              "      <th>ACC1__variation_coefficient</th>\n",
              "      <th>ACC1__variance</th>\n",
              "      <th>ACC1__skewness</th>\n",
              "      <th>ACC1__kurtosis</th>\n",
              "      <th>ACC1__root_mean_square</th>\n",
              "      <th>ACC1__absolute_sum_of_changes</th>\n",
              "      <th>ACC1__longest_strike_below_mean</th>\n",
              "      <th>ACC1__longest_strike_above_mean</th>\n",
              "      <th>ACC1__count_above_mean</th>\n",
              "      <th>ACC1__count_below_mean</th>\n",
              "      <th>ACC1__last_location_of_maximum</th>\n",
              "      <th>ACC1__first_location_of_maximum</th>\n",
              "      <th>ACC1__last_location_of_minimum</th>\n",
              "      <th>ACC1__first_location_of_minimum</th>\n",
              "      <th>ACC1__percentage_of_reoccurring_values_to_all_values</th>\n",
              "      <th>ACC1__percentage_of_reoccurring_datapoints_to_all_datapoints</th>\n",
              "      <th>ACC1__sum_of_reoccurring_values</th>\n",
              "      <th>ACC1__sum_of_reoccurring_data_points</th>\n",
              "      <th>ACC1__ratio_value_number_to_time_series_length</th>\n",
              "      <th>ACC1__sample_entropy</th>\n",
              "      <th>ACC1__maximum</th>\n",
              "      <th>ACC1__minimum</th>\n",
              "      <th>ACC1__benford_correlation</th>\n",
              "      <th>ACC1__time_reversal_asymmetry_statistic__lag_1</th>\n",
              "      <th>ACC1__time_reversal_asymmetry_statistic__lag_2</th>\n",
              "      <th>ACC1__time_reversal_asymmetry_statistic__lag_3</th>\n",
              "      <th>ACC1__c3__lag_1</th>\n",
              "      <th>...</th>\n",
              "      <th>ACC4__energy_ratio_by_chunks__num_segments_10__segment_focus_4</th>\n",
              "      <th>ACC4__energy_ratio_by_chunks__num_segments_10__segment_focus_5</th>\n",
              "      <th>ACC4__energy_ratio_by_chunks__num_segments_10__segment_focus_6</th>\n",
              "      <th>ACC4__energy_ratio_by_chunks__num_segments_10__segment_focus_7</th>\n",
              "      <th>ACC4__energy_ratio_by_chunks__num_segments_10__segment_focus_8</th>\n",
              "      <th>ACC4__energy_ratio_by_chunks__num_segments_10__segment_focus_9</th>\n",
              "      <th>ACC4__ratio_beyond_r_sigma__r_0.5</th>\n",
              "      <th>ACC4__ratio_beyond_r_sigma__r_1</th>\n",
              "      <th>ACC4__ratio_beyond_r_sigma__r_1.5</th>\n",
              "      <th>ACC4__ratio_beyond_r_sigma__r_2</th>\n",
              "      <th>ACC4__ratio_beyond_r_sigma__r_2.5</th>\n",
              "      <th>ACC4__ratio_beyond_r_sigma__r_3</th>\n",
              "      <th>ACC4__ratio_beyond_r_sigma__r_5</th>\n",
              "      <th>ACC4__ratio_beyond_r_sigma__r_6</th>\n",
              "      <th>ACC4__ratio_beyond_r_sigma__r_7</th>\n",
              "      <th>ACC4__ratio_beyond_r_sigma__r_10</th>\n",
              "      <th>ACC4__count_above__t_0</th>\n",
              "      <th>ACC4__count_below__t_0</th>\n",
              "      <th>ACC4__lempel_ziv_complexity__bins_2</th>\n",
              "      <th>ACC4__lempel_ziv_complexity__bins_3</th>\n",
              "      <th>ACC4__lempel_ziv_complexity__bins_5</th>\n",
              "      <th>ACC4__lempel_ziv_complexity__bins_10</th>\n",
              "      <th>ACC4__lempel_ziv_complexity__bins_100</th>\n",
              "      <th>ACC4__fourier_entropy__bins_2</th>\n",
              "      <th>ACC4__fourier_entropy__bins_3</th>\n",
              "      <th>ACC4__fourier_entropy__bins_5</th>\n",
              "      <th>ACC4__fourier_entropy__bins_10</th>\n",
              "      <th>ACC4__fourier_entropy__bins_100</th>\n",
              "      <th>ACC4__permutation_entropy__dimension_3__tau_1</th>\n",
              "      <th>ACC4__permutation_entropy__dimension_4__tau_1</th>\n",
              "      <th>ACC4__permutation_entropy__dimension_5__tau_1</th>\n",
              "      <th>ACC4__permutation_entropy__dimension_6__tau_1</th>\n",
              "      <th>ACC4__permutation_entropy__dimension_7__tau_1</th>\n",
              "      <th>ACC4__matrix_profile__feature_min__threshold_0.98</th>\n",
              "      <th>ACC4__matrix_profile__feature_max__threshold_0.98</th>\n",
              "      <th>ACC4__matrix_profile__feature_mean__threshold_0.98</th>\n",
              "      <th>ACC4__matrix_profile__feature_median__threshold_0.98</th>\n",
              "      <th>ACC4__matrix_profile__feature_25__threshold_0.98</th>\n",
              "      <th>ACC4__matrix_profile__feature_75__threshold_0.98</th>\n",
              "      <th>target</th>\n",
              "    </tr>\n",
              "  </thead>\n",
              "  <tbody>\n",
              "    <tr>\n",
              "      <th>normal_000.csv</th>\n",
              "      <td>0.0</td>\n",
              "      <td>0.0</td>\n",
              "      <td>0.0</td>\n",
              "      <td>1.0</td>\n",
              "      <td>-100.774624</td>\n",
              "      <td>4904.122394</td>\n",
              "      <td>1.417838</td>\n",
              "      <td>0.000229</td>\n",
              "      <td>0.000096</td>\n",
              "      <td>0.063768</td>\n",
              "      <td>-0.020155</td>\n",
              "      <td>5000.0</td>\n",
              "      <td>0.990161</td>\n",
              "      <td>-49.127483</td>\n",
              "      <td>0.980418</td>\n",
              "      <td>-0.285386</td>\n",
              "      <td>-1.082088</td>\n",
              "      <td>0.990366</td>\n",
              "      <td>7087.772256</td>\n",
              "      <td>2.0</td>\n",
              "      <td>21.0</td>\n",
              "      <td>2596.0</td>\n",
              "      <td>2404.0</td>\n",
              "      <td>0.4862</td>\n",
              "      <td>0.4860</td>\n",
              "      <td>0.3500</td>\n",
              "      <td>0.3498</td>\n",
              "      <td>0.043515</td>\n",
              "      <td>0.0856</td>\n",
              "      <td>98.243235</td>\n",
              "      <td>203.845570</td>\n",
              "      <td>0.9560</td>\n",
              "      <td>1.073304</td>\n",
              "      <td>1.45820</td>\n",
              "      <td>-3.125300</td>\n",
              "      <td>0.862727</td>\n",
              "      <td>0.011657</td>\n",
              "      <td>-0.007533</td>\n",
              "      <td>0.002150</td>\n",
              "      <td>0.170742</td>\n",
              "      <td>...</td>\n",
              "      <td>0.027543</td>\n",
              "      <td>0.070648</td>\n",
              "      <td>0.240254</td>\n",
              "      <td>0.152641</td>\n",
              "      <td>0.057925</td>\n",
              "      <td>0.121656</td>\n",
              "      <td>0.6528</td>\n",
              "      <td>0.3386</td>\n",
              "      <td>0.1466</td>\n",
              "      <td>0.0316</td>\n",
              "      <td>0.0040</td>\n",
              "      <td>0.0000</td>\n",
              "      <td>0.0</td>\n",
              "      <td>0.0</td>\n",
              "      <td>0.0</td>\n",
              "      <td>0.0</td>\n",
              "      <td>0.5086</td>\n",
              "      <td>0.4914</td>\n",
              "      <td>0.02</td>\n",
              "      <td>0.0426</td>\n",
              "      <td>0.0638</td>\n",
              "      <td>0.1100</td>\n",
              "      <td>0.3670</td>\n",
              "      <td>0.079983</td>\n",
              "      <td>0.090729</td>\n",
              "      <td>0.170467</td>\n",
              "      <td>0.215617</td>\n",
              "      <td>0.425614</td>\n",
              "      <td>1.784077</td>\n",
              "      <td>3.042406</td>\n",
              "      <td>4.138607</td>\n",
              "      <td>5.189655</td>\n",
              "      <td>6.195801</td>\n",
              "      <td>3.011393</td>\n",
              "      <td>13.834408</td>\n",
              "      <td>6.947274</td>\n",
              "      <td>6.825240</td>\n",
              "      <td>5.221428</td>\n",
              "      <td>8.388816</td>\n",
              "      <td>0.0</td>\n",
              "    </tr>\n",
              "    <tr>\n",
              "      <th>normal_001.csv</th>\n",
              "      <td>0.0</td>\n",
              "      <td>0.0</td>\n",
              "      <td>0.0</td>\n",
              "      <td>1.0</td>\n",
              "      <td>47.963158</td>\n",
              "      <td>4751.054738</td>\n",
              "      <td>1.390188</td>\n",
              "      <td>-0.000277</td>\n",
              "      <td>-0.000156</td>\n",
              "      <td>0.099764</td>\n",
              "      <td>0.009593</td>\n",
              "      <td>5000.0</td>\n",
              "      <td>0.974740</td>\n",
              "      <td>101.613456</td>\n",
              "      <td>0.950119</td>\n",
              "      <td>-0.300469</td>\n",
              "      <td>-1.060336</td>\n",
              "      <td>0.974788</td>\n",
              "      <td>6949.549914</td>\n",
              "      <td>2.0</td>\n",
              "      <td>26.0</td>\n",
              "      <td>2629.0</td>\n",
              "      <td>2371.0</td>\n",
              "      <td>0.2848</td>\n",
              "      <td>0.2846</td>\n",
              "      <td>0.6568</td>\n",
              "      <td>0.6566</td>\n",
              "      <td>0.045293</td>\n",
              "      <td>0.0894</td>\n",
              "      <td>98.070441</td>\n",
              "      <td>206.692082</td>\n",
              "      <td>0.9538</td>\n",
              "      <td>1.109923</td>\n",
              "      <td>1.49060</td>\n",
              "      <td>-2.826800</td>\n",
              "      <td>0.866128</td>\n",
              "      <td>-0.000138</td>\n",
              "      <td>0.004460</td>\n",
              "      <td>-0.001820</td>\n",
              "      <td>0.130125</td>\n",
              "      <td>...</td>\n",
              "      <td>0.012030</td>\n",
              "      <td>0.015385</td>\n",
              "      <td>0.219068</td>\n",
              "      <td>0.188000</td>\n",
              "      <td>0.137018</td>\n",
              "      <td>0.223584</td>\n",
              "      <td>0.6866</td>\n",
              "      <td>0.3718</td>\n",
              "      <td>0.1220</td>\n",
              "      <td>0.0252</td>\n",
              "      <td>0.0036</td>\n",
              "      <td>0.0000</td>\n",
              "      <td>0.0</td>\n",
              "      <td>0.0</td>\n",
              "      <td>0.0</td>\n",
              "      <td>0.0</td>\n",
              "      <td>0.7320</td>\n",
              "      <td>0.2680</td>\n",
              "      <td>0.02</td>\n",
              "      <td>0.0388</td>\n",
              "      <td>0.0696</td>\n",
              "      <td>0.1166</td>\n",
              "      <td>0.3740</td>\n",
              "      <td>0.079983</td>\n",
              "      <td>0.090729</td>\n",
              "      <td>0.136002</td>\n",
              "      <td>0.215617</td>\n",
              "      <td>0.425614</td>\n",
              "      <td>1.784346</td>\n",
              "      <td>3.041508</td>\n",
              "      <td>4.125874</td>\n",
              "      <td>5.159764</td>\n",
              "      <td>6.150489</td>\n",
              "      <td>4.330190</td>\n",
              "      <td>23.056244</td>\n",
              "      <td>12.213888</td>\n",
              "      <td>12.372242</td>\n",
              "      <td>9.901998</td>\n",
              "      <td>15.202150</td>\n",
              "      <td>0.0</td>\n",
              "    </tr>\n",
              "    <tr>\n",
              "      <th>normal_002.csv</th>\n",
              "      <td>0.0</td>\n",
              "      <td>0.0</td>\n",
              "      <td>0.0</td>\n",
              "      <td>1.0</td>\n",
              "      <td>-68.661864</td>\n",
              "      <td>4957.333329</td>\n",
              "      <td>1.423478</td>\n",
              "      <td>-0.000019</td>\n",
              "      <td>0.000136</td>\n",
              "      <td>0.062358</td>\n",
              "      <td>-0.013732</td>\n",
              "      <td>5000.0</td>\n",
              "      <td>0.995629</td>\n",
              "      <td>-72.502364</td>\n",
              "      <td>0.991278</td>\n",
              "      <td>-0.302474</td>\n",
              "      <td>-1.049274</td>\n",
              "      <td>0.995724</td>\n",
              "      <td>7115.966350</td>\n",
              "      <td>2.0</td>\n",
              "      <td>18.0</td>\n",
              "      <td>2602.0</td>\n",
              "      <td>2398.0</td>\n",
              "      <td>0.9726</td>\n",
              "      <td>0.9724</td>\n",
              "      <td>0.8432</td>\n",
              "      <td>0.8430</td>\n",
              "      <td>0.045293</td>\n",
              "      <td>0.0894</td>\n",
              "      <td>106.819359</td>\n",
              "      <td>224.614718</td>\n",
              "      <td>0.9538</td>\n",
              "      <td>1.092313</td>\n",
              "      <td>1.46500</td>\n",
              "      <td>-3.060500</td>\n",
              "      <td>0.873171</td>\n",
              "      <td>-0.001079</td>\n",
              "      <td>0.003231</td>\n",
              "      <td>0.006947</td>\n",
              "      <td>0.164555</td>\n",
              "      <td>...</td>\n",
              "      <td>0.123914</td>\n",
              "      <td>0.052291</td>\n",
              "      <td>0.091603</td>\n",
              "      <td>0.093600</td>\n",
              "      <td>0.064508</td>\n",
              "      <td>0.094084</td>\n",
              "      <td>0.7002</td>\n",
              "      <td>0.3766</td>\n",
              "      <td>0.1116</td>\n",
              "      <td>0.0282</td>\n",
              "      <td>0.0032</td>\n",
              "      <td>0.0000</td>\n",
              "      <td>0.0</td>\n",
              "      <td>0.0</td>\n",
              "      <td>0.0</td>\n",
              "      <td>0.0</td>\n",
              "      <td>0.5652</td>\n",
              "      <td>0.4348</td>\n",
              "      <td>0.02</td>\n",
              "      <td>0.0404</td>\n",
              "      <td>0.0708</td>\n",
              "      <td>0.1208</td>\n",
              "      <td>0.3734</td>\n",
              "      <td>0.079983</td>\n",
              "      <td>0.090729</td>\n",
              "      <td>0.136002</td>\n",
              "      <td>0.215617</td>\n",
              "      <td>0.452944</td>\n",
              "      <td>1.781866</td>\n",
              "      <td>3.041303</td>\n",
              "      <td>4.134515</td>\n",
              "      <td>5.182833</td>\n",
              "      <td>6.194880</td>\n",
              "      <td>4.586884</td>\n",
              "      <td>21.847797</td>\n",
              "      <td>12.912648</td>\n",
              "      <td>13.038370</td>\n",
              "      <td>9.354495</td>\n",
              "      <td>16.191090</td>\n",
              "      <td>0.0</td>\n",
              "    </tr>\n",
              "    <tr>\n",
              "      <th>normal_003.csv</th>\n",
              "      <td>0.0</td>\n",
              "      <td>0.0</td>\n",
              "      <td>0.0</td>\n",
              "      <td>1.0</td>\n",
              "      <td>-48.730738</td>\n",
              "      <td>4961.902566</td>\n",
              "      <td>1.430797</td>\n",
              "      <td>0.000218</td>\n",
              "      <td>-0.000068</td>\n",
              "      <td>0.051383</td>\n",
              "      <td>-0.009746</td>\n",
              "      <td>5000.0</td>\n",
              "      <td>0.996135</td>\n",
              "      <td>-102.208106</td>\n",
              "      <td>0.992286</td>\n",
              "      <td>-0.277148</td>\n",
              "      <td>-1.098444</td>\n",
              "      <td>0.996183</td>\n",
              "      <td>7152.552792</td>\n",
              "      <td>2.0</td>\n",
              "      <td>36.0</td>\n",
              "      <td>2600.0</td>\n",
              "      <td>2400.0</td>\n",
              "      <td>0.1370</td>\n",
              "      <td>0.1368</td>\n",
              "      <td>0.5822</td>\n",
              "      <td>0.5820</td>\n",
              "      <td>0.045970</td>\n",
              "      <td>0.0910</td>\n",
              "      <td>113.961645</td>\n",
              "      <td>248.798490</td>\n",
              "      <td>0.9528</td>\n",
              "      <td>1.071973</td>\n",
              "      <td>1.49420</td>\n",
              "      <td>-2.784000</td>\n",
              "      <td>0.859716</td>\n",
              "      <td>-0.015162</td>\n",
              "      <td>0.020110</td>\n",
              "      <td>0.000868</td>\n",
              "      <td>0.152065</td>\n",
              "      <td>...</td>\n",
              "      <td>0.120630</td>\n",
              "      <td>0.194768</td>\n",
              "      <td>0.035432</td>\n",
              "      <td>0.046399</td>\n",
              "      <td>0.054008</td>\n",
              "      <td>0.171967</td>\n",
              "      <td>0.6614</td>\n",
              "      <td>0.3528</td>\n",
              "      <td>0.1340</td>\n",
              "      <td>0.0330</td>\n",
              "      <td>0.0026</td>\n",
              "      <td>0.0000</td>\n",
              "      <td>0.0</td>\n",
              "      <td>0.0</td>\n",
              "      <td>0.0</td>\n",
              "      <td>0.0</td>\n",
              "      <td>0.5604</td>\n",
              "      <td>0.4396</td>\n",
              "      <td>0.02</td>\n",
              "      <td>0.0418</td>\n",
              "      <td>0.0670</td>\n",
              "      <td>0.1194</td>\n",
              "      <td>0.3700</td>\n",
              "      <td>0.079983</td>\n",
              "      <td>0.090729</td>\n",
              "      <td>0.136002</td>\n",
              "      <td>0.215617</td>\n",
              "      <td>0.425614</td>\n",
              "      <td>1.782885</td>\n",
              "      <td>3.025794</td>\n",
              "      <td>4.120802</td>\n",
              "      <td>5.165772</td>\n",
              "      <td>6.179522</td>\n",
              "      <td>4.521757</td>\n",
              "      <td>23.103818</td>\n",
              "      <td>11.835907</td>\n",
              "      <td>10.977873</td>\n",
              "      <td>9.122067</td>\n",
              "      <td>14.982622</td>\n",
              "      <td>0.0</td>\n",
              "    </tr>\n",
              "    <tr>\n",
              "      <th>normal_004.csv</th>\n",
              "      <td>0.0</td>\n",
              "      <td>0.0</td>\n",
              "      <td>0.0</td>\n",
              "      <td>1.0</td>\n",
              "      <td>90.609861</td>\n",
              "      <td>4802.603633</td>\n",
              "      <td>1.404279</td>\n",
              "      <td>-0.000371</td>\n",
              "      <td>-0.000014</td>\n",
              "      <td>0.094237</td>\n",
              "      <td>0.018122</td>\n",
              "      <td>5000.0</td>\n",
              "      <td>0.979894</td>\n",
              "      <td>54.072152</td>\n",
              "      <td>0.960192</td>\n",
              "      <td>-0.286478</td>\n",
              "      <td>-1.079547</td>\n",
              "      <td>0.980062</td>\n",
              "      <td>7019.991920</td>\n",
              "      <td>2.0</td>\n",
              "      <td>24.0</td>\n",
              "      <td>2597.0</td>\n",
              "      <td>2403.0</td>\n",
              "      <td>0.6610</td>\n",
              "      <td>0.6608</td>\n",
              "      <td>0.1320</td>\n",
              "      <td>0.1318</td>\n",
              "      <td>0.042415</td>\n",
              "      <td>0.0834</td>\n",
              "      <td>93.809398</td>\n",
              "      <td>198.438496</td>\n",
              "      <td>0.9572</td>\n",
              "      <td>1.095619</td>\n",
              "      <td>1.50660</td>\n",
              "      <td>-3.131000</td>\n",
              "      <td>0.863501</td>\n",
              "      <td>0.005646</td>\n",
              "      <td>0.000049</td>\n",
              "      <td>0.000336</td>\n",
              "      <td>0.119533</td>\n",
              "      <td>...</td>\n",
              "      <td>0.189219</td>\n",
              "      <td>0.060967</td>\n",
              "      <td>0.031776</td>\n",
              "      <td>0.121610</td>\n",
              "      <td>0.121376</td>\n",
              "      <td>0.078729</td>\n",
              "      <td>0.6732</td>\n",
              "      <td>0.3536</td>\n",
              "      <td>0.1290</td>\n",
              "      <td>0.0308</td>\n",
              "      <td>0.0078</td>\n",
              "      <td>0.0000</td>\n",
              "      <td>0.0</td>\n",
              "      <td>0.0</td>\n",
              "      <td>0.0</td>\n",
              "      <td>0.0</td>\n",
              "      <td>0.5464</td>\n",
              "      <td>0.4536</td>\n",
              "      <td>0.02</td>\n",
              "      <td>0.0394</td>\n",
              "      <td>0.0620</td>\n",
              "      <td>0.1024</td>\n",
              "      <td>0.3582</td>\n",
              "      <td>0.079983</td>\n",
              "      <td>0.090729</td>\n",
              "      <td>0.136002</td>\n",
              "      <td>0.181214</td>\n",
              "      <td>0.361435</td>\n",
              "      <td>1.783225</td>\n",
              "      <td>3.040983</td>\n",
              "      <td>4.138288</td>\n",
              "      <td>5.204506</td>\n",
              "      <td>6.227099</td>\n",
              "      <td>13.228428</td>\n",
              "      <td>33.744638</td>\n",
              "      <td>21.655869</td>\n",
              "      <td>22.886315</td>\n",
              "      <td>17.743696</td>\n",
              "      <td>25.210160</td>\n",
              "      <td>0.0</td>\n",
              "    </tr>\n",
              "    <tr>\n",
              "      <th>...</th>\n",
              "      <td>...</td>\n",
              "      <td>...</td>\n",
              "      <td>...</td>\n",
              "      <td>...</td>\n",
              "      <td>...</td>\n",
              "      <td>...</td>\n",
              "      <td>...</td>\n",
              "      <td>...</td>\n",
              "      <td>...</td>\n",
              "      <td>...</td>\n",
              "      <td>...</td>\n",
              "      <td>...</td>\n",
              "      <td>...</td>\n",
              "      <td>...</td>\n",
              "      <td>...</td>\n",
              "      <td>...</td>\n",
              "      <td>...</td>\n",
              "      <td>...</td>\n",
              "      <td>...</td>\n",
              "      <td>...</td>\n",
              "      <td>...</td>\n",
              "      <td>...</td>\n",
              "      <td>...</td>\n",
              "      <td>...</td>\n",
              "      <td>...</td>\n",
              "      <td>...</td>\n",
              "      <td>...</td>\n",
              "      <td>...</td>\n",
              "      <td>...</td>\n",
              "      <td>...</td>\n",
              "      <td>...</td>\n",
              "      <td>...</td>\n",
              "      <td>...</td>\n",
              "      <td>...</td>\n",
              "      <td>...</td>\n",
              "      <td>...</td>\n",
              "      <td>...</td>\n",
              "      <td>...</td>\n",
              "      <td>...</td>\n",
              "      <td>...</td>\n",
              "      <td>...</td>\n",
              "      <td>...</td>\n",
              "      <td>...</td>\n",
              "      <td>...</td>\n",
              "      <td>...</td>\n",
              "      <td>...</td>\n",
              "      <td>...</td>\n",
              "      <td>...</td>\n",
              "      <td>...</td>\n",
              "      <td>...</td>\n",
              "      <td>...</td>\n",
              "      <td>...</td>\n",
              "      <td>...</td>\n",
              "      <td>...</td>\n",
              "      <td>...</td>\n",
              "      <td>...</td>\n",
              "      <td>...</td>\n",
              "      <td>...</td>\n",
              "      <td>...</td>\n",
              "      <td>...</td>\n",
              "      <td>...</td>\n",
              "      <td>...</td>\n",
              "      <td>...</td>\n",
              "      <td>...</td>\n",
              "      <td>...</td>\n",
              "      <td>...</td>\n",
              "      <td>...</td>\n",
              "      <td>...</td>\n",
              "      <td>...</td>\n",
              "      <td>...</td>\n",
              "      <td>...</td>\n",
              "      <td>...</td>\n",
              "      <td>...</td>\n",
              "      <td>...</td>\n",
              "      <td>...</td>\n",
              "      <td>...</td>\n",
              "      <td>...</td>\n",
              "      <td>...</td>\n",
              "      <td>...</td>\n",
              "      <td>...</td>\n",
              "      <td>...</td>\n",
              "    </tr>\n",
              "    <tr>\n",
              "      <th>data_475.csv</th>\n",
              "      <td>0.0</td>\n",
              "      <td>0.0</td>\n",
              "      <td>0.0</td>\n",
              "      <td>1.0</td>\n",
              "      <td>36.592013</td>\n",
              "      <td>2861.868953</td>\n",
              "      <td>0.859031</td>\n",
              "      <td>-0.000265</td>\n",
              "      <td>0.000156</td>\n",
              "      <td>0.103950</td>\n",
              "      <td>0.007318</td>\n",
              "      <td>5000.0</td>\n",
              "      <td>0.756518</td>\n",
              "      <td>103.372078</td>\n",
              "      <td>0.572320</td>\n",
              "      <td>-0.452742</td>\n",
              "      <td>-0.302150</td>\n",
              "      <td>0.756554</td>\n",
              "      <td>4294.295033</td>\n",
              "      <td>15.0</td>\n",
              "      <td>24.0</td>\n",
              "      <td>2726.0</td>\n",
              "      <td>2274.0</td>\n",
              "      <td>0.1726</td>\n",
              "      <td>0.1724</td>\n",
              "      <td>0.5910</td>\n",
              "      <td>0.5908</td>\n",
              "      <td>0.012763</td>\n",
              "      <td>0.0254</td>\n",
              "      <td>-7.056584</td>\n",
              "      <td>-15.158468</td>\n",
              "      <td>0.9872</td>\n",
              "      <td>1.848733</td>\n",
              "      <td>1.93260</td>\n",
              "      <td>-3.499300</td>\n",
              "      <td>0.906164</td>\n",
              "      <td>0.005329</td>\n",
              "      <td>-0.002600</td>\n",
              "      <td>-0.005738</td>\n",
              "      <td>0.118648</td>\n",
              "      <td>...</td>\n",
              "      <td>0.116830</td>\n",
              "      <td>0.041460</td>\n",
              "      <td>0.014565</td>\n",
              "      <td>0.051429</td>\n",
              "      <td>0.081939</td>\n",
              "      <td>0.100364</td>\n",
              "      <td>0.7426</td>\n",
              "      <td>0.3934</td>\n",
              "      <td>0.1068</td>\n",
              "      <td>0.0204</td>\n",
              "      <td>0.0000</td>\n",
              "      <td>0.0000</td>\n",
              "      <td>0.0</td>\n",
              "      <td>0.0</td>\n",
              "      <td>0.0</td>\n",
              "      <td>0.0</td>\n",
              "      <td>0.3494</td>\n",
              "      <td>0.6506</td>\n",
              "      <td>0.02</td>\n",
              "      <td>0.0352</td>\n",
              "      <td>0.0676</td>\n",
              "      <td>0.1178</td>\n",
              "      <td>0.3640</td>\n",
              "      <td>0.138228</td>\n",
              "      <td>0.247940</td>\n",
              "      <td>0.284235</td>\n",
              "      <td>0.339942</td>\n",
              "      <td>0.652842</td>\n",
              "      <td>1.735682</td>\n",
              "      <td>3.006995</td>\n",
              "      <td>4.227656</td>\n",
              "      <td>5.452067</td>\n",
              "      <td>6.532987</td>\n",
              "      <td>2.084149</td>\n",
              "      <td>6.970150</td>\n",
              "      <td>4.061378</td>\n",
              "      <td>3.933168</td>\n",
              "      <td>3.401955</td>\n",
              "      <td>4.661599</td>\n",
              "      <td>NaN</td>\n",
              "    </tr>\n",
              "    <tr>\n",
              "      <th>data_476.csv</th>\n",
              "      <td>0.0</td>\n",
              "      <td>0.0</td>\n",
              "      <td>0.0</td>\n",
              "      <td>1.0</td>\n",
              "      <td>62.112632</td>\n",
              "      <td>2628.543275</td>\n",
              "      <td>0.736888</td>\n",
              "      <td>-0.000139</td>\n",
              "      <td>0.000088</td>\n",
              "      <td>0.086098</td>\n",
              "      <td>0.012423</td>\n",
              "      <td>5000.0</td>\n",
              "      <td>0.724951</td>\n",
              "      <td>58.357796</td>\n",
              "      <td>0.525554</td>\n",
              "      <td>-0.428142</td>\n",
              "      <td>-0.083407</td>\n",
              "      <td>0.725058</td>\n",
              "      <td>3683.701912</td>\n",
              "      <td>27.0</td>\n",
              "      <td>33.0</td>\n",
              "      <td>2674.0</td>\n",
              "      <td>2326.0</td>\n",
              "      <td>0.2494</td>\n",
              "      <td>0.2492</td>\n",
              "      <td>0.7552</td>\n",
              "      <td>0.7550</td>\n",
              "      <td>0.014816</td>\n",
              "      <td>0.0292</td>\n",
              "      <td>12.820227</td>\n",
              "      <td>25.640454</td>\n",
              "      <td>0.9854</td>\n",
              "      <td>2.006741</td>\n",
              "      <td>1.71610</td>\n",
              "      <td>-3.122200</td>\n",
              "      <td>0.949303</td>\n",
              "      <td>-0.000247</td>\n",
              "      <td>0.003337</td>\n",
              "      <td>-0.005805</td>\n",
              "      <td>0.075585</td>\n",
              "      <td>...</td>\n",
              "      <td>0.109657</td>\n",
              "      <td>0.065232</td>\n",
              "      <td>0.120094</td>\n",
              "      <td>0.091302</td>\n",
              "      <td>0.092873</td>\n",
              "      <td>0.084196</td>\n",
              "      <td>0.6062</td>\n",
              "      <td>0.3456</td>\n",
              "      <td>0.1466</td>\n",
              "      <td>0.0356</td>\n",
              "      <td>0.0060</td>\n",
              "      <td>0.0006</td>\n",
              "      <td>0.0</td>\n",
              "      <td>0.0</td>\n",
              "      <td>0.0</td>\n",
              "      <td>0.0</td>\n",
              "      <td>0.4704</td>\n",
              "      <td>0.5296</td>\n",
              "      <td>0.02</td>\n",
              "      <td>0.0490</td>\n",
              "      <td>0.0800</td>\n",
              "      <td>0.1408</td>\n",
              "      <td>0.3776</td>\n",
              "      <td>0.110453</td>\n",
              "      <td>0.190068</td>\n",
              "      <td>0.215617</td>\n",
              "      <td>0.335886</td>\n",
              "      <td>0.559717</td>\n",
              "      <td>1.691197</td>\n",
              "      <td>2.894938</td>\n",
              "      <td>4.046314</td>\n",
              "      <td>5.199626</td>\n",
              "      <td>6.203312</td>\n",
              "      <td>2.020499</td>\n",
              "      <td>8.107202</td>\n",
              "      <td>4.019499</td>\n",
              "      <td>3.939108</td>\n",
              "      <td>3.434873</td>\n",
              "      <td>4.540809</td>\n",
              "      <td>NaN</td>\n",
              "    </tr>\n",
              "    <tr>\n",
              "      <th>data_477.csv</th>\n",
              "      <td>1.0</td>\n",
              "      <td>0.0</td>\n",
              "      <td>0.0</td>\n",
              "      <td>1.0</td>\n",
              "      <td>155.801824</td>\n",
              "      <td>8048.515564</td>\n",
              "      <td>1.765009</td>\n",
              "      <td>-0.000056</td>\n",
              "      <td>0.000274</td>\n",
              "      <td>0.187048</td>\n",
              "      <td>0.031160</td>\n",
              "      <td>5000.0</td>\n",
              "      <td>1.268358</td>\n",
              "      <td>40.704211</td>\n",
              "      <td>1.608732</td>\n",
              "      <td>-0.350606</td>\n",
              "      <td>-0.980669</td>\n",
              "      <td>1.268741</td>\n",
              "      <td>8823.280687</td>\n",
              "      <td>2.0</td>\n",
              "      <td>33.0</td>\n",
              "      <td>2661.0</td>\n",
              "      <td>2339.0</td>\n",
              "      <td>0.7418</td>\n",
              "      <td>0.7416</td>\n",
              "      <td>0.6500</td>\n",
              "      <td>0.6498</td>\n",
              "      <td>0.000200</td>\n",
              "      <td>0.0004</td>\n",
              "      <td>0.870255</td>\n",
              "      <td>1.740510</td>\n",
              "      <td>0.9998</td>\n",
              "      <td>1.419238</td>\n",
              "      <td>2.14645</td>\n",
              "      <td>-3.648438</td>\n",
              "      <td>0.911775</td>\n",
              "      <td>0.004368</td>\n",
              "      <td>0.016663</td>\n",
              "      <td>0.002549</td>\n",
              "      <td>0.309717</td>\n",
              "      <td>...</td>\n",
              "      <td>0.083620</td>\n",
              "      <td>0.040710</td>\n",
              "      <td>0.065435</td>\n",
              "      <td>0.086122</td>\n",
              "      <td>0.028768</td>\n",
              "      <td>0.146063</td>\n",
              "      <td>0.6720</td>\n",
              "      <td>0.3362</td>\n",
              "      <td>0.1268</td>\n",
              "      <td>0.0306</td>\n",
              "      <td>0.0102</td>\n",
              "      <td>0.0034</td>\n",
              "      <td>0.0</td>\n",
              "      <td>0.0</td>\n",
              "      <td>0.0</td>\n",
              "      <td>0.0</td>\n",
              "      <td>0.4872</td>\n",
              "      <td>0.5128</td>\n",
              "      <td>0.02</td>\n",
              "      <td>0.0418</td>\n",
              "      <td>0.0602</td>\n",
              "      <td>0.1022</td>\n",
              "      <td>0.3548</td>\n",
              "      <td>0.079983</td>\n",
              "      <td>0.125256</td>\n",
              "      <td>0.170467</td>\n",
              "      <td>0.226363</td>\n",
              "      <td>0.485184</td>\n",
              "      <td>1.783391</td>\n",
              "      <td>3.056967</td>\n",
              "      <td>4.206266</td>\n",
              "      <td>5.334147</td>\n",
              "      <td>6.405513</td>\n",
              "      <td>4.932196</td>\n",
              "      <td>23.572839</td>\n",
              "      <td>9.624909</td>\n",
              "      <td>8.933051</td>\n",
              "      <td>7.333108</td>\n",
              "      <td>10.703127</td>\n",
              "      <td>NaN</td>\n",
              "    </tr>\n",
              "    <tr>\n",
              "      <th>data_478.csv</th>\n",
              "      <td>0.0</td>\n",
              "      <td>0.0</td>\n",
              "      <td>0.0</td>\n",
              "      <td>1.0</td>\n",
              "      <td>-102.264333</td>\n",
              "      <td>4580.263906</td>\n",
              "      <td>1.260856</td>\n",
              "      <td>-0.000377</td>\n",
              "      <td>0.000147</td>\n",
              "      <td>0.115650</td>\n",
              "      <td>-0.020453</td>\n",
              "      <td>5000.0</td>\n",
              "      <td>0.956888</td>\n",
              "      <td>-46.785026</td>\n",
              "      <td>0.915634</td>\n",
              "      <td>-0.429785</td>\n",
              "      <td>-0.742506</td>\n",
              "      <td>0.957106</td>\n",
              "      <td>6303.020521</td>\n",
              "      <td>6.0</td>\n",
              "      <td>26.0</td>\n",
              "      <td>2696.0</td>\n",
              "      <td>2304.0</td>\n",
              "      <td>0.2166</td>\n",
              "      <td>0.2164</td>\n",
              "      <td>0.9726</td>\n",
              "      <td>0.9724</td>\n",
              "      <td>0.026727</td>\n",
              "      <td>0.0532</td>\n",
              "      <td>37.938710</td>\n",
              "      <td>80.209920</td>\n",
              "      <td>0.9728</td>\n",
              "      <td>1.592462</td>\n",
              "      <td>1.83840</td>\n",
              "      <td>-3.540900</td>\n",
              "      <td>0.871866</td>\n",
              "      <td>-0.000324</td>\n",
              "      <td>0.011123</td>\n",
              "      <td>0.002674</td>\n",
              "      <td>0.206574</td>\n",
              "      <td>...</td>\n",
              "      <td>0.039073</td>\n",
              "      <td>0.037645</td>\n",
              "      <td>0.098244</td>\n",
              "      <td>0.187512</td>\n",
              "      <td>0.159600</td>\n",
              "      <td>0.084586</td>\n",
              "      <td>0.7870</td>\n",
              "      <td>0.4012</td>\n",
              "      <td>0.0874</td>\n",
              "      <td>0.0110</td>\n",
              "      <td>0.0016</td>\n",
              "      <td>0.0000</td>\n",
              "      <td>0.0</td>\n",
              "      <td>0.0</td>\n",
              "      <td>0.0</td>\n",
              "      <td>0.0</td>\n",
              "      <td>0.4824</td>\n",
              "      <td>0.5176</td>\n",
              "      <td>0.02</td>\n",
              "      <td>0.0370</td>\n",
              "      <td>0.0668</td>\n",
              "      <td>0.1080</td>\n",
              "      <td>0.3572</td>\n",
              "      <td>0.163982</td>\n",
              "      <td>0.183378</td>\n",
              "      <td>0.245901</td>\n",
              "      <td>0.290926</td>\n",
              "      <td>0.645639</td>\n",
              "      <td>1.759919</td>\n",
              "      <td>3.071992</td>\n",
              "      <td>4.286715</td>\n",
              "      <td>5.512540</td>\n",
              "      <td>6.622205</td>\n",
              "      <td>2.538837</td>\n",
              "      <td>10.904762</td>\n",
              "      <td>6.168812</td>\n",
              "      <td>6.308532</td>\n",
              "      <td>5.371596</td>\n",
              "      <td>7.127815</td>\n",
              "      <td>NaN</td>\n",
              "    </tr>\n",
              "    <tr>\n",
              "      <th>data_479.csv</th>\n",
              "      <td>1.0</td>\n",
              "      <td>0.0</td>\n",
              "      <td>0.0</td>\n",
              "      <td>1.0</td>\n",
              "      <td>120.812164</td>\n",
              "      <td>5306.273604</td>\n",
              "      <td>1.416462</td>\n",
              "      <td>0.000217</td>\n",
              "      <td>0.000145</td>\n",
              "      <td>0.146380</td>\n",
              "      <td>0.024162</td>\n",
              "      <td>5000.0</td>\n",
              "      <td>1.029889</td>\n",
              "      <td>42.623555</td>\n",
              "      <td>1.060671</td>\n",
              "      <td>-0.402372</td>\n",
              "      <td>-0.849870</td>\n",
              "      <td>1.030172</td>\n",
              "      <td>7080.895265</td>\n",
              "      <td>3.0</td>\n",
              "      <td>24.0</td>\n",
              "      <td>2664.0</td>\n",
              "      <td>2336.0</td>\n",
              "      <td>0.9590</td>\n",
              "      <td>0.9588</td>\n",
              "      <td>0.0144</td>\n",
              "      <td>0.0142</td>\n",
              "      <td>0.041815</td>\n",
              "      <td>0.0834</td>\n",
              "      <td>104.959072</td>\n",
              "      <td>231.835544</td>\n",
              "      <td>0.9566</td>\n",
              "      <td>1.357754</td>\n",
              "      <td>1.66260</td>\n",
              "      <td>-3.455700</td>\n",
              "      <td>0.882016</td>\n",
              "      <td>-0.023286</td>\n",
              "      <td>0.036061</td>\n",
              "      <td>0.002723</td>\n",
              "      <td>0.191517</td>\n",
              "      <td>...</td>\n",
              "      <td>0.084367</td>\n",
              "      <td>0.019008</td>\n",
              "      <td>0.012574</td>\n",
              "      <td>0.040220</td>\n",
              "      <td>0.062518</td>\n",
              "      <td>0.071149</td>\n",
              "      <td>0.6822</td>\n",
              "      <td>0.3718</td>\n",
              "      <td>0.1278</td>\n",
              "      <td>0.0234</td>\n",
              "      <td>0.0000</td>\n",
              "      <td>0.0000</td>\n",
              "      <td>0.0</td>\n",
              "      <td>0.0</td>\n",
              "      <td>0.0</td>\n",
              "      <td>0.0</td>\n",
              "      <td>0.3772</td>\n",
              "      <td>0.6228</td>\n",
              "      <td>0.02</td>\n",
              "      <td>0.0370</td>\n",
              "      <td>0.0658</td>\n",
              "      <td>0.1144</td>\n",
              "      <td>0.3640</td>\n",
              "      <td>0.079983</td>\n",
              "      <td>0.159721</td>\n",
              "      <td>0.204871</td>\n",
              "      <td>0.294982</td>\n",
              "      <td>0.608341</td>\n",
              "      <td>1.778558</td>\n",
              "      <td>3.086832</td>\n",
              "      <td>4.280730</td>\n",
              "      <td>5.469162</td>\n",
              "      <td>6.573028</td>\n",
              "      <td>2.049014</td>\n",
              "      <td>8.563449</td>\n",
              "      <td>3.879919</td>\n",
              "      <td>3.667078</td>\n",
              "      <td>3.130712</td>\n",
              "      <td>4.436440</td>\n",
              "      <td>NaN</td>\n",
              "    </tr>\n",
              "  </tbody>\n",
              "</table>\n",
              "<p>920 rows × 5503 columns</p>\n",
              "</div>\n",
              "      <button class=\"colab-df-convert\" onclick=\"convertToInteractive('df-4b0604c5-39b3-4e1c-afc1-b6ea414c5caa')\"\n",
              "              title=\"Convert this dataframe to an interactive table.\"\n",
              "              style=\"display:none;\">\n",
              "        \n",
              "  <svg xmlns=\"http://www.w3.org/2000/svg\" height=\"24px\"viewBox=\"0 0 24 24\"\n",
              "       width=\"24px\">\n",
              "    <path d=\"M0 0h24v24H0V0z\" fill=\"none\"/>\n",
              "    <path d=\"M18.56 5.44l.94 2.06.94-2.06 2.06-.94-2.06-.94-.94-2.06-.94 2.06-2.06.94zm-11 1L8.5 8.5l.94-2.06 2.06-.94-2.06-.94L8.5 2.5l-.94 2.06-2.06.94zm10 10l.94 2.06.94-2.06 2.06-.94-2.06-.94-.94-2.06-.94 2.06-2.06.94z\"/><path d=\"M17.41 7.96l-1.37-1.37c-.4-.4-.92-.59-1.43-.59-.52 0-1.04.2-1.43.59L10.3 9.45l-7.72 7.72c-.78.78-.78 2.05 0 2.83L4 21.41c.39.39.9.59 1.41.59.51 0 1.02-.2 1.41-.59l7.78-7.78 2.81-2.81c.8-.78.8-2.07 0-2.86zM5.41 20L4 18.59l7.72-7.72 1.47 1.35L5.41 20z\"/>\n",
              "  </svg>\n",
              "      </button>\n",
              "      \n",
              "  <style>\n",
              "    .colab-df-container {\n",
              "      display:flex;\n",
              "      flex-wrap:wrap;\n",
              "      gap: 12px;\n",
              "    }\n",
              "\n",
              "    .colab-df-convert {\n",
              "      background-color: #E8F0FE;\n",
              "      border: none;\n",
              "      border-radius: 50%;\n",
              "      cursor: pointer;\n",
              "      display: none;\n",
              "      fill: #1967D2;\n",
              "      height: 32px;\n",
              "      padding: 0 0 0 0;\n",
              "      width: 32px;\n",
              "    }\n",
              "\n",
              "    .colab-df-convert:hover {\n",
              "      background-color: #E2EBFA;\n",
              "      box-shadow: 0px 1px 2px rgba(60, 64, 67, 0.3), 0px 1px 3px 1px rgba(60, 64, 67, 0.15);\n",
              "      fill: #174EA6;\n",
              "    }\n",
              "\n",
              "    [theme=dark] .colab-df-convert {\n",
              "      background-color: #3B4455;\n",
              "      fill: #D2E3FC;\n",
              "    }\n",
              "\n",
              "    [theme=dark] .colab-df-convert:hover {\n",
              "      background-color: #434B5C;\n",
              "      box-shadow: 0px 1px 3px 1px rgba(0, 0, 0, 0.15);\n",
              "      filter: drop-shadow(0px 1px 2px rgba(0, 0, 0, 0.3));\n",
              "      fill: #FFFFFF;\n",
              "    }\n",
              "  </style>\n",
              "\n",
              "      <script>\n",
              "        const buttonEl =\n",
              "          document.querySelector('#df-4b0604c5-39b3-4e1c-afc1-b6ea414c5caa button.colab-df-convert');\n",
              "        buttonEl.style.display =\n",
              "          google.colab.kernel.accessAllowed ? 'block' : 'none';\n",
              "\n",
              "        async function convertToInteractive(key) {\n",
              "          const element = document.querySelector('#df-4b0604c5-39b3-4e1c-afc1-b6ea414c5caa');\n",
              "          const dataTable =\n",
              "            await google.colab.kernel.invokeFunction('convertToInteractive',\n",
              "                                                     [key], {});\n",
              "          if (!dataTable) return;\n",
              "\n",
              "          const docLinkHtml = 'Like what you see? Visit the ' +\n",
              "            '<a target=\"_blank\" href=https://colab.research.google.com/notebooks/data_table.ipynb>data table notebook</a>'\n",
              "            + ' to learn more about interactive tables.';\n",
              "          element.innerHTML = '';\n",
              "          dataTable['output_type'] = 'display_data';\n",
              "          await google.colab.output.renderOutput(dataTable, element);\n",
              "          const docLink = document.createElement('div');\n",
              "          docLink.innerHTML = docLinkHtml;\n",
              "          element.appendChild(docLink);\n",
              "        }\n",
              "      </script>\n",
              "    </div>\n",
              "  </div>\n",
              "  "
            ],
            "text/plain": [
              "                ACC1__variance_larger_than_standard_deviation  ...  target\n",
              "normal_000.csv                                            0.0  ...     0.0\n",
              "normal_001.csv                                            0.0  ...     0.0\n",
              "normal_002.csv                                            0.0  ...     0.0\n",
              "normal_003.csv                                            0.0  ...     0.0\n",
              "normal_004.csv                                            0.0  ...     0.0\n",
              "...                                                       ...  ...     ...\n",
              "data_475.csv                                              0.0  ...     NaN\n",
              "data_476.csv                                              0.0  ...     NaN\n",
              "data_477.csv                                              1.0  ...     NaN\n",
              "data_478.csv                                              0.0  ...     NaN\n",
              "data_479.csv                                              1.0  ...     NaN\n",
              "\n",
              "[920 rows x 5503 columns]"
            ]
          },
          "metadata": {},
          "execution_count": 23
        }
      ]
    },
    {
      "cell_type": "markdown",
      "source": [
        "### train test 分割 "
      ],
      "metadata": {
        "id": "W-bjZcBFSLYv"
      }
    },
    {
      "cell_type": "code",
      "source": [
        "train_df = df[df.index.str.contains('normal') | df.index.str.contains('anomaly')]\n",
        "test_df = df[df.index.str.contains('data')]\n",
        "train_df.shape, test_df.shape"
      ],
      "metadata": {
        "colab": {
          "base_uri": "https://localhost:8080/"
        },
        "id": "JpIduuymSJ1c",
        "outputId": "630e4cfd-0de8-4e24-a164-8456fbe2db3b"
      },
      "execution_count": 24,
      "outputs": [
        {
          "output_type": "execute_result",
          "data": {
            "text/plain": [
              "((440, 5503), (480, 5503))"
            ]
          },
          "metadata": {},
          "execution_count": 24
        }
      ]
    },
    {
      "cell_type": "markdown",
      "source": [
        "### train val 分割"
      ],
      "metadata": {
        "id": "9blz2eFMSVZB"
      }
    },
    {
      "cell_type": "code",
      "source": [
        "from sklearn.model_selection import train_test_split \n",
        "X = train_df.drop('target', axis=1)\n",
        "y = train_df['target']\n",
        "\n",
        "X_train, X_test, y_train, y_test = train_test_split(X, y,test_size=0.20, random_state=2)\n",
        "X_train.shape, X_test.shape, y_train.shape, y_test.shape"
      ],
      "metadata": {
        "colab": {
          "base_uri": "https://localhost:8080/"
        },
        "id": "yDWKHKviRuyv",
        "outputId": "d8ca19d8-975d-45b0-ec2a-81f3ab549552"
      },
      "execution_count": 25,
      "outputs": [
        {
          "output_type": "execute_result",
          "data": {
            "text/plain": [
              "((352, 5502), (88, 5502), (352,), (88,))"
            ]
          },
          "metadata": {},
          "execution_count": 25
        }
      ]
    },
    {
      "cell_type": "markdown",
      "metadata": {
        "id": "JqIpFsli_Fi5"
      },
      "source": [
        "## モデル構築"
      ]
    },
    {
      "cell_type": "markdown",
      "metadata": {
        "id": "kiLLT5lHdi9b"
      },
      "source": [
        "### LightGBM"
      ]
    },
    {
      "cell_type": "code",
      "execution_count": 27,
      "metadata": {
        "id": "DNVzGhDBA49V"
      },
      "outputs": [],
      "source": [
        "%%time\n",
        "import lightgbm as lgb\n",
        "\n",
        "model = lgb.LGBMClassifier()\n",
        "model.fit(X_train, y_train)\n",
        "\n",
        "y_pred = model.predict(X_test)\n",
        "y_pred_prob = model.predict_proba(X_test)"
      ]
    },
    {
      "cell_type": "code",
      "execution_count": 28,
      "metadata": {
        "colab": {
          "base_uri": "https://localhost:8080/"
        },
        "collapsed": true,
        "id": "Wn1CX5rKdncB",
        "jupyter": {
          "outputs_hidden": true
        },
        "outputId": "d093a282-d008-4d17-bd47-fc2360e46215",
        "tags": []
      },
      "outputs": [
        {
          "output_type": "stream",
          "name": "stdout",
          "text": [
            "[[70  0]\n",
            " [ 0 18]]\n"
          ]
        }
      ],
      "source": [
        "from sklearn.metrics import confusion_matrix\n",
        "\n",
        "cm = confusion_matrix(y_test, y_pred)\n",
        "tn, fp, fn, tp = cm.flatten()\n",
        "print(cm)"
      ]
    },
    {
      "cell_type": "code",
      "execution_count": 29,
      "metadata": {
        "colab": {
          "base_uri": "https://localhost:8080/",
          "height": 388
        },
        "id": "fiiu48qGA49W",
        "outputId": "a20abb8e-da6a-4711-d57c-ee3bad54e42f"
      },
      "outputs": [
        {
          "output_type": "display_data",
          "data": {
            "image/png": "[encoded data removed]",
            "text/plain": [
              "<Figure size 432x432 with 1 Axes>"
            ]
          },
          "metadata": {
            "needs_background": "light"
          }
        }
      ],
      "source": [
        "import matplotlib.pyplot as plt\n",
        "from sklearn import metrics\n",
        "from sklearn.metrics import roc_curve\n",
        "\n",
        "fpr, tpr, thresholds = roc_curve(y_test,y_pred_prob[:,1])\n",
        "auc = metrics.auc(fpr, tpr)\n",
        "plt.figure(figsize=(6, 6))\n",
        "plt.plot(fpr, tpr, label=f'ROC (AUC={auc:.2f})')\n",
        "plt.legend()\n",
        "plt.xlabel('FPR: False positive rate')\n",
        "plt.ylabel('TPR: True positive rate')\n",
        "plt.grid()\n",
        "plt.show()"
      ]
    },
    {
      "cell_type": "markdown",
      "metadata": {
        "id": "0VwTAt7qnvFt"
      },
      "source": [
        "# 結果の提出"
      ]
    },
    {
      "cell_type": "code",
      "execution_count": 33,
      "metadata": {
        "colab": {
          "base_uri": "https://localhost:8080/"
        },
        "id": "jZQi5MFgmElV",
        "outputId": "0c9491c4-5f09-4b74-88f3-1fd08cef3d42",
        "tags": []
      },
      "outputs": [
        {
          "output_type": "stream",
          "name": "stdout",
          "text": [
            "144\n"
          ]
        },
        {
          "output_type": "execute_result",
          "data": {
            "text/plain": [
              "array([0, 0, 0, 0, 1, 1, 1, 1, 0, 0, 0, 0, 1, 1, 1, 0, 0, 1, 0, 0, 0, 0,\n",
              "       0, 1, 1, 1, 1, 0, 1, 1, 0, 0, 0, 0, 0, 0, 0, 1, 0, 0, 1, 1, 0, 0,\n",
              "       0, 0, 0, 0, 0, 0, 1, 1, 0, 0, 0, 0, 0, 0, 0, 0, 0, 0, 1, 0, 0, 0,\n",
              "       0, 1, 0, 0, 0, 0, 1, 0, 0, 0, 0, 1, 0, 0, 0, 0, 1, 0, 0, 0, 0, 0,\n",
              "       0, 0, 0, 1, 1, 0, 1, 0, 0, 0, 1, 0, 0, 0, 0, 0, 0, 0, 0, 0, 1, 0,\n",
              "       0, 1, 0, 1, 0, 0, 1, 0, 0, 0, 0, 0, 1, 1, 0, 0, 0, 1, 0, 0, 0, 0,\n",
              "       0, 0, 0, 0, 1, 1, 1, 1, 1, 0, 0, 0, 0, 0, 0, 0, 1, 1, 0, 0, 0, 0,\n",
              "       0, 1, 0, 1, 1, 0, 0, 0, 1, 1, 0, 1, 1, 1, 0, 0, 0, 0, 0, 1, 1, 1,\n",
              "       0, 1, 1, 1, 0, 1, 0, 0, 0, 0, 0, 0, 1, 0, 0, 0, 1, 0, 0, 1, 1, 0,\n",
              "       1, 0, 0, 0, 0, 0, 0, 1, 0, 0, 0, 1, 0, 1, 0, 0, 0, 0, 0, 0, 0, 1,\n",
              "       0, 0, 0, 0, 1, 0, 0, 0, 0, 1, 1, 0, 0, 0, 0, 1, 1, 1, 0, 0, 0, 0,\n",
              "       0, 0, 0, 0, 0, 1, 0, 0, 1, 1, 1, 0, 0, 0, 0, 1, 1, 0, 0, 1, 0, 0,\n",
              "       1, 0, 0, 0, 1, 0, 0, 0, 0, 1, 0, 1, 0, 0, 0, 1, 0, 0, 0, 0, 0, 0,\n",
              "       0, 0, 0, 1, 1, 0, 0, 0, 0, 0, 0, 0, 0, 0, 0, 0, 0, 0, 1, 0, 1, 0,\n",
              "       0, 0, 0, 1, 1, 1, 1, 0, 0, 1, 0, 1, 0, 0, 0, 0, 1, 0, 0, 0, 0, 0,\n",
              "       0, 1, 0, 0, 1, 0, 0, 1, 1, 0, 1, 0, 0, 1, 1, 0, 1, 0, 0, 0, 1, 0,\n",
              "       0, 0, 0, 1, 0, 0, 0, 0, 1, 0, 1, 0, 0, 0, 0, 1, 0, 1, 0, 1, 0, 0,\n",
              "       0, 1, 0, 0, 0, 1, 0, 0, 0, 0, 1, 0, 0, 1, 0, 1, 0, 1, 0, 0, 1, 0,\n",
              "       0, 0, 0, 1, 0, 0, 1, 0, 1, 0, 0, 0, 0, 0, 1, 0, 0, 0, 0, 1, 0, 0,\n",
              "       0, 1, 1, 1, 0, 0, 0, 1, 1, 1, 0, 0, 0, 1, 0, 0, 0, 1, 1, 1, 0, 1,\n",
              "       0, 1, 0, 1, 1, 0, 0, 0, 1, 0, 0, 0, 0, 0, 0, 0, 1, 0, 0, 1, 0, 0,\n",
              "       1, 1, 1, 0, 0, 0, 0, 0, 0, 0, 0, 1, 0, 0, 0, 1, 0, 0])"
            ]
          },
          "metadata": {},
          "execution_count": 33
        }
      ],
      "source": [
        "y_test_pred = model.predict(test_df.drop('target', axis=1))\n",
        "y_test_pred = y_test_pred.astype(int)\n",
        "print(y_test_pred.sum())\n",
        "y_test_pred"
      ]
    },
    {
      "cell_type": "code",
      "execution_count": 36,
      "metadata": {
        "id": "7loTIpwQmL-6"
      },
      "outputs": [],
      "source": [
        "import os\n",
        "from datetime import datetime\n",
        "\n",
        "os.makedirs(f'{own_dir}/submit', exist_ok=True)\n",
        "submit_dir = f'{own_dir}/submit/{datetime.now().strftime(\"%y-%m-%d\")}'\n",
        "os.makedirs(submit_dir, exist_ok=True)"
      ]
    },
    {
      "cell_type": "code",
      "execution_count": 37,
      "metadata": {
        "id": "5H-SWq9zxNIA"
      },
      "outputs": [],
      "source": [
        "sub = pd.read_csv(f\"{data_dir}/sample_submission.csv\", header=None)\n",
        "sub.iloc[:,1] = y_test_pred\n",
        "filepath = f\"{submit_dir}/sub_tsfresh_lgb.csv\"\n",
        "sub.to_csv(filepath, index=False, header=False)"
      ]
    },
    {
      "cell_type": "code",
      "execution_count": 38,
      "metadata": {
        "colab": {
          "base_uri": "https://localhost:8080/"
        },
        "id": "PcFSfsoqm8qz",
        "outputId": "7c0d8b9d-7976-4de6-d3d6-811438b315cc"
      },
      "outputs": [
        {
          "output_type": "stream",
          "name": "stdout",
          "text": [
            "skipping\n"
          ]
        }
      ],
      "source": [
        "%%script echo skipping\n",
        "!signate submit --competition-id={competition_id} \"{filepath}\""
      ]
    },
    {
      "cell_type": "code",
      "execution_count": null,
      "metadata": {
        "id": "dLMnGfoZnxKk"
      },
      "outputs": [],
      "source": [
        ""
      ]
    }
  ],
  "metadata": {
    "colab": {
      "collapsed_sections": [],
      "name": "pbl06_ne7a2ne.ipynb",
      "provenance": []
    },
    "jupytext": {
      "encoding": "# -*- coding: utf-8 -*-",
      "text_representation": {
        "extension": ".py",
        "format_name": "light",
        "format_version": "1.5",
        "jupytext_version": "1.11.4"
      }
    },
    "kernelspec": {
      "display_name": "Python 3 (ipykernel)",
      "language": "python",
      "name": "python3"
    },
    "language_info": {
      "codemirror_mode": {
        "name": "ipython",
        "version": 3
      },
      "file_extension": ".py",
      "mimetype": "text/x-python",
      "name": "python",
      "nbconvert_exporter": "python",
      "pygments_lexer": "ipython3",
      "version": "3.8.10"
    },
    "toc-autonumbering": true,
    "toc-showcode": false,
    "toc-showmarkdowntxt": false,
    "toc-showtags": false
  },
  "nbformat": 4,
  "nbformat_minor": 0
}