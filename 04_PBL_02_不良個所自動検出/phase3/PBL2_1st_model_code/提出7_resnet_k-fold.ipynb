{
 "cells": [
  {
   "cell_type": "markdown",
   "id": "fdcb51b1-9bfc-4b65-a8d3-af793dfa9dd8",
   "metadata": {},
   "source": [
    "### SE-ResNeXt50_32x4d評価\n",
    "#### 前提条件\n",
    "* 学習時に保存したDAYと同じpathを指定"
   ]
  },
  {
   "cell_type": "code",
   "execution_count": 1,
   "id": "5e010a74-4765-495c-9445-4b1c6d76be64",
   "metadata": {},
   "outputs": [],
   "source": [
    "import os\n",
    "import glob\n",
    "import random\n",
    "from PIL import Image\n",
    "\n",
    "import numpy as np\n",
    "import pandas as pd\n",
    "import matplotlib.pyplot as plt\n",
    "\n",
    "import torch\n",
    "import torch.nn as nn\n",
    "from torchvision import transforms as T\n",
    "from torch.utils.data import DataLoader\n",
    "import albumentations as A\n",
    "import pretrainedmodels"
   ]
  },
  {
   "cell_type": "code",
   "execution_count": 2,
   "id": "1a75bee5-b4c8-41a4-b8d7-8ab8f82c57f3",
   "metadata": {},
   "outputs": [],
   "source": [
    "device = torch.device(\"cuda\", 0) if torch.cuda.is_available() else \"cpu\"\n",
    "count = torch.cuda.device_count()\n",
    "def fix_seed(seed):\n",
    "    random.seed(seed)\n",
    "    np.random.seed(seed)\n",
    "    torch.manual_seed(seed)\n",
    "SEED = 42\n",
    "fix_seed(SEED)"
   ]
  },
  {
   "cell_type": "code",
   "execution_count": 5,
   "id": "a810fb78-06b8-42c0-b949-1d88f5542394",
   "metadata": {},
   "outputs": [],
   "source": [
    "def make_datapath_list(root_path):\n",
    "    path_list = []\n",
    "    target_path = os.path.join(\"data\" + root_path + f'/*.jpeg')\n",
    "    for path in glob.glob(target_path):\n",
    "        path_list.append(path)\n",
    "    path_list.sort()\n",
    "    path_list = [os.path.basename(p) for p in path_list]\n",
    "    return path_list"
   ]
  },
  {
   "cell_type": "code",
   "execution_count": 6,
   "id": "a625f51f-99b6-4518-88a9-db4f9f5c771d",
   "metadata": {},
   "outputs": [],
   "source": [
    "BASE1 = \"progress\"\n",
    "DAY = \"/test\"#学習時と同じ名前を指定\n",
    "MODEL_PATH = \"{}/model\".format(BASE1 + DAY)\n",
    "PIC_PATH = \"{}/pic\".format(BASE1 + DAY)\n",
    "os.makedirs(MODEL_PATH, exist_ok=True)\n",
    "os.makedirs(PIC_PATH, exist_ok=True)"
   ]
  },
  {
   "cell_type": "code",
   "execution_count": 7,
   "id": "7c59af5d-43fb-4dbb-a9ac-15b65a8aac2a",
   "metadata": {},
   "outputs": [],
   "source": [
    "test = make_datapath_list('/crip_test')\n",
    "test_data = [Image.open('data/crip_test/' + i) for i in test]\n",
    "\n",
    "size=(224,224)\n",
    "test_resize= np.array([np.array(img.resize(size, Image.LANCZOS), dtype=\"uint8\") for img in test_data])"
   ]
  },
  {
   "cell_type": "code",
   "execution_count": 8,
   "id": "dd0666c9-9d48-4f0c-8606-9ab0f2b523b3",
   "metadata": {},
   "outputs": [],
   "source": [
    "class MyDataset3(torch.utils.data.Dataset):\n",
    "    def __init__(self, file_list, label_list = None, P = None, A = None):\n",
    "        self.P = P\n",
    "        self.A = A\n",
    "        self.data = file_list\n",
    "        self.label = label_list\n",
    "    def __len__(self):\n",
    "        return len(self.data)\n",
    "    def __getitem__(self, idx):\n",
    "        data = self.data[idx]\n",
    "        if self.label is not None:\n",
    "            label = self.label[idx]\n",
    "        else:\n",
    "            label = 0\n",
    "        data = Image.fromarray(data)\n",
    "        if self.P:\n",
    "            data = self.P(data)\n",
    "        if self.A:\n",
    "            data = np.asarray(data).transpose(1,2,0)\n",
    "            image = self.A(image = data)\n",
    "            data = image['image']\n",
    "        data = data.transpose(2,1,0)\n",
    "        return data.astype('f'), label"
   ]
  },
  {
   "cell_type": "code",
   "execution_count": 9,
   "id": "ac0f7d09-1b67-4d3d-bcae-8a19a2b21d3e",
   "metadata": {},
   "outputs": [],
   "source": [
    "test_tf = T.Compose([\n",
    "    T.ToTensor(),\n",
    "    T.Normalize(mean=[0.485, 0.456, 0.406], std=[0.229, 0.224, 0.225]),\n",
    "])\n",
    "test_A = A.Compose([\n",
    "])\n",
    "test_set = MyDataset3(test_resize, P = test_tf,  A = test_A)\n",
    "test_loader = DataLoader(test_set, batch_size = 8, shuffle = False)"
   ]
  },
  {
   "cell_type": "code",
   "execution_count": 10,
   "id": "64bc6c45-4085-435e-9bbc-25848f5e1942",
   "metadata": {},
   "outputs": [],
   "source": [
    "model_name = 'se_resnext50_32x4d'\n",
    "resnet_model = pretrainedmodels.__dict__[model_name](num_classes=1000, pretrained='imagenet')"
   ]
  },
  {
   "cell_type": "code",
   "execution_count": 11,
   "id": "2bb8b3c1-194f-4617-ae4e-a1009de9b18d",
   "metadata": {},
   "outputs": [],
   "source": [
    "class ResNet(nn.Module):\n",
    "    def __init__(self, pretrained_res_model, class_num):\n",
    "        super(ResNet, self).__init__()\n",
    "        self.eff = pretrained_res_model\n",
    "        self.fc1 = nn.Linear(1000, 100)\n",
    "        self.fc2 = nn.Linear(100, class_num)\n",
    "        self.dropout = nn.Dropout(0.5)\n",
    "        self.relu = nn.ReLU()\n",
    "\n",
    "    def forward(self, input_ids):\n",
    "        states = self.eff(input_ids)\n",
    "        states = self.relu(self.fc1(states))\n",
    "        states = self.dropout(states)\n",
    "        states = self.fc2(states)\n",
    "        return states"
   ]
  },
  {
   "cell_type": "code",
   "execution_count": 15,
   "id": "d6e1c58e-5ffc-4c3b-8225-5e815a96cb0a",
   "metadata": {},
   "outputs": [],
   "source": [
    "final_softmax = {}\n",
    "for i in range(5):\n",
    "    model = ResNet(resnet_model, 2)\n",
    "    for param in model.parameters():\n",
    "        param.requires_grad = False\n",
    "    model_path = MODEL_PATH + f'/fold{i}_best.pth'\n",
    "    model.load_state_dict(torch.load(model_path))\n",
    "    model.to(device)\n",
    "    m = nn.Softmax(dim=1)\n",
    "    check_input = []\n",
    "    check_output = []\n",
    "    check_softmax = []\n",
    "    model.eval()\n",
    "    with torch.no_grad():\n",
    "        for test_imgs,test_labels in test_loader:\n",
    "            test_imgs = test_imgs.to(device)\n",
    "            test_output = model(test_imgs)\n",
    "            test_softmax = m(test_output.cpu().detach())\n",
    "            check_input.append(test_imgs.cpu())\n",
    "            check_output.append(test_output.cpu().detach())\n",
    "            check_softmax.append(test_softmax)\n",
    "            \n",
    "    show_input = torch.cat(check_input).numpy().transpose(0,2,3,1)\n",
    "    show_output = torch.cat(check_output).numpy()\n",
    "    show_softmax = torch.cat(check_softmax).numpy()\n",
    "    \n",
    "    final_softmax[f\"model{i}\"] = show_softmax[:,1]"
   ]
  },
  {
   "cell_type": "code",
   "execution_count": 17,
   "id": "161350d8-94b6-44fa-9eb4-a1af78110355",
   "metadata": {},
   "outputs": [],
   "source": [
    "pd.DataFrame(final_softmax).to_csv('csv/res.csv',index=False)"
   ]
  },
  {
   "cell_type": "code",
   "execution_count": null,
   "id": "358e1748-3e06-4230-a5fb-9f60f57c4575",
   "metadata": {},
   "outputs": [],
   "source": []
  }
 ],
 "metadata": {
  "kernelspec": {
   "display_name": "Python 3",
   "language": "python",
   "name": "python3"
  },
  "language_info": {
   "codemirror_mode": {
    "name": "ipython",
    "version": 3
   },
   "file_extension": ".py",
   "mimetype": "text/x-python",
   "name": "python",
   "nbconvert_exporter": "python",
   "pygments_lexer": "ipython3",
   "version": "3.8.8"
  }
 },
 "nbformat": 4,
 "nbformat_minor": 5
}
