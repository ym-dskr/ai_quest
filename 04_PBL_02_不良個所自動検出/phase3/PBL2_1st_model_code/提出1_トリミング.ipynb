{
 "cells": [
  {
   "cell_type": "markdown",
   "metadata": {},
   "source": [
    "### 基板でトリミングを行う\n",
    "#### 前提条件\n",
    "* data/train/に各フォルダがあること\n",
    "* new_data/train/に各フォルダがあること"
   ]
  },
  {
   "cell_type": "code",
   "execution_count": 6,
   "metadata": {},
   "outputs": [],
   "source": [
    "import os\n",
    "import glob\n",
    "import cv2\n",
    "import numpy as np\n",
    "import matplotlib.pyplot as plt"
   ]
  },
  {
   "cell_type": "code",
   "execution_count": 7,
   "metadata": {},
   "outputs": [],
   "source": [
    "#pathを引っ張って来るための関数\n",
    "def make_datapath_list(root_path):\n",
    "    path_list = []\n",
    "    target_path = os.path.join(root_path + f'/*.jpeg')\n",
    "    for path in glob.glob(target_path):\n",
    "        path_list.append(path)\n",
    "    path_list.sort()\n",
    "    return path_list"
   ]
  },
  {
   "cell_type": "code",
   "execution_count": 8,
   "metadata": {},
   "outputs": [],
   "source": [
    "#各画像へのpathを取得\n",
    "bridge = make_datapath_list('data/train/bridge')\n",
    "horn = make_datapath_list('data/train/horn')\n",
    "potato = make_datapath_list('data/train/potato')\n",
    "regular = make_datapath_list('data/train/regular')\n",
    "test = make_datapath_list('data/test')"
   ]
  },
  {
   "cell_type": "code",
   "execution_count": 9,
   "metadata": {},
   "outputs": [],
   "source": [
    "#基板だけに切り取るための関数\n",
    "def detect_green_color(img):\n",
    "    # HSV色空間に変換\n",
    "    hsv = cv2.cvtColor(img, cv2.COLOR_BGR2HSV)\n",
    "    # 緑色のHSVの値域1(色相、彩度、明度)\n",
    "    hsv_min = np.array([30, 40, 30])\n",
    "    hsv_max = np.array([90,255,255])\n",
    "    # 緑色領域のマスク    \n",
    "    mask = cv2.inRange(hsv, hsv_min, hsv_max)\n",
    "    # マスキング処理\n",
    "    masked_img = cv2.bitwise_and(img, img, mask=mask)\n",
    "    #グレースケール変換\n",
    "    gray = cv2.cvtColor(masked_img, cv2.COLOR_BGR2GRAY)\n",
    "    # 2値変換\n",
    "    ret, bin_img = cv2.threshold(gray, 10, 255, cv2.THRESH_BINARY)\n",
    "    # 輪郭抽出\n",
    "    contours, hierarchy = cv2.findContours(\n",
    "        bin_img, cv2.RETR_EXTERNAL, cv2.CHAIN_APPROX_SIMPLE\n",
    "    )\n",
    "    # 小さい輪郭の排除\n",
    "    contours = list(filter(lambda x: cv2.contourArea(x) > 700000, contours))\n",
    "    x,y,w,h = cv2.boundingRect(contours[0])\n",
    "    #上部だけ多めにカット\n",
    "    cut_y = y - 150\n",
    "    if cut_y < 0:\n",
    "        cut_y = 0\n",
    "    img_crop = img[cut_y:y+h+50,x-50:x+w+50]\n",
    "    return img_crop"
   ]
  },
  {
   "cell_type": "markdown",
   "metadata": {},
   "source": [
    "new_dataの下に保存されますが、保存し終わったらdata/crip_train/の下に移し替えています。「bridgeアップサンプル」のコードを見ていただければ理解いただけると思います。"
   ]
  },
  {
   "cell_type": "code",
   "execution_count": 10,
   "metadata": {},
   "outputs": [
    {
     "name": "stdout",
     "output_type": "stream",
     "text": [
      "['data/train/bridge/bridge_000.jpeg', 'data/train/bridge/bridge_001.jpeg', 'data/train/bridge/bridge_002.jpeg', 'data/train/bridge/bridge_003.jpeg', 'data/train/bridge/bridge_004.jpeg', 'data/train/bridge/bridge_005.jpeg', 'data/train/bridge/bridge_006.jpeg', 'data/train/bridge/bridge_007.jpeg', 'data/train/bridge/bridge_008.jpeg', 'data/train/bridge/bridge_009.jpeg', 'data/train/bridge/bridge_010.jpeg', 'data/train/bridge/bridge_011.jpeg', 'data/train/bridge/bridge_012.jpeg', 'data/train/bridge/bridge_013.jpeg', 'data/train/bridge/bridge_014.jpeg', 'data/train/bridge/bridge_015.jpeg', 'data/train/bridge/bridge_016.jpeg', 'data/train/bridge/bridge_017.jpeg', 'data/train/bridge/bridge_018.jpeg', 'data/train/bridge/bridge_019.jpeg', 'data/train/bridge/bridge_020.jpeg', 'data/train/bridge/bridge_021.jpeg', 'data/train/bridge/bridge_022.jpeg', 'data/train/bridge/bridge_023.jpeg', 'data/train/bridge/bridge_024.jpeg', 'data/train/bridge/bridge_025.jpeg', 'data/train/bridge/bridge_026.jpeg', 'data/train/bridge/bridge_027.jpeg', 'data/train/bridge/bridge_028.jpeg', 'data/train/bridge/bridge_029.jpeg']\n"
     ]
    }
   ],
   "source": [
    "#新しいnew_dataに格納\n",
    "data_list=[bridge]\n",
    "for d in data_list:\n",
    "    print(d)\n",
    "    for i, path in enumerate(d):\n",
    "        img = cv2.imread(path)\n",
    "        img_crop=detect_green_color(img)\n",
    "        cv2.imwrite('new_' + path, img_crop)"
   ]
  },
  {
   "cell_type": "code",
   "execution_count": null,
   "metadata": {},
   "outputs": [],
   "source": []
  }
 ],
 "metadata": {
  "kernelspec": {
   "display_name": "Python 3",
   "language": "python",
   "name": "python3"
  },
  "language_info": {
   "codemirror_mode": {
    "name": "ipython",
    "version": 3
   },
   "file_extension": ".py",
   "mimetype": "text/x-python",
   "name": "python",
   "nbconvert_exporter": "python",
   "pygments_lexer": "ipython3",
   "version": "3.8.5"
  }
 },
 "nbformat": 4,
 "nbformat_minor": 5
}
