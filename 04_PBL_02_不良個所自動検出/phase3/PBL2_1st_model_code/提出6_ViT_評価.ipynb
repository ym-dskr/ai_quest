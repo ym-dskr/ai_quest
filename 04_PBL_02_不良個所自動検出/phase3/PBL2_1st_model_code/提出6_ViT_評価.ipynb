{
 "cells": [
  {
   "cell_type": "markdown",
   "id": "5f69bf22-d539-47a2-b868-f34b5fb03a9c",
   "metadata": {},
   "source": [
    "### Vision Transformer評価\n",
    "#### 前提条件\n",
    "* 学習時に保存したDAYと同じpathを指定"
   ]
  },
  {
   "cell_type": "code",
   "execution_count": 1,
   "id": "0b212865-7dcf-4672-b5a1-d1b7cdee961d",
   "metadata": {},
   "outputs": [],
   "source": [
    "import os\n",
    "import glob\n",
    "import random\n",
    "from PIL import Image\n",
    "\n",
    "import numpy as np\n",
    "import pandas as pd\n",
    "import matplotlib.pyplot as plt\n",
    "\n",
    "import torch\n",
    "import torch.nn as nn\n",
    "from torchvision import transforms as T\n",
    "from transformers import ViTModel\n",
    "from torch.utils.data import DataLoader\n",
    "import albumentations as A"
   ]
  },
  {
   "cell_type": "code",
   "execution_count": 2,
   "id": "5afd623c-f24c-4749-bb3c-9e144c5339f2",
   "metadata": {},
   "outputs": [],
   "source": [
    "device = torch.device(\"cuda\", 0) if torch.cuda.is_available() else \"cpu\"\n",
    "count = torch.cuda.device_count()\n",
    "def fix_seed(seed):\n",
    "    random.seed(seed)\n",
    "    np.random.seed(seed)\n",
    "    torch.manual_seed(seed)\n",
    "SEED = 42\n",
    "fix_seed(SEED)"
   ]
  },
  {
   "cell_type": "code",
   "execution_count": 5,
   "id": "b4c89be0-94dd-4b2c-b68a-85859fd94b50",
   "metadata": {},
   "outputs": [],
   "source": [
    "def make_datapath_list(root_path):\n",
    "    path_list = []\n",
    "    target_path = os.path.join(\"data\" + root_path + f'/*.jpeg')\n",
    "    for path in glob.glob(target_path):\n",
    "        path_list.append(path)\n",
    "    path_list.sort()\n",
    "    path_list = [os.path.basename(p) for p in path_list]\n",
    "    return path_list"
   ]
  },
  {
   "cell_type": "code",
   "execution_count": 6,
   "id": "b704459e-48c7-48c2-96ea-e559c819af78",
   "metadata": {},
   "outputs": [],
   "source": [
    "BASE1 = \"progress\"\n",
    "DAY = \"/test\"#学習時と同じ名前を指定\n",
    "MODEL_PATH = \"{}/model\".format(BASE1 + DAY)\n",
    "PIC_PATH = \"{}/pic\".format(BASE1 + DAY)\n",
    "os.makedirs(MODEL_PATH, exist_ok=True)\n",
    "os.makedirs(PIC_PATH, exist_ok=True)"
   ]
  },
  {
   "cell_type": "code",
   "execution_count": 7,
   "id": "7b7d2d89-7670-4771-b751-d7eb9e603801",
   "metadata": {},
   "outputs": [],
   "source": [
    "test = make_datapath_list('/crip_test')\n",
    "test_data = [Image.open('data/crip_test/' + i) for i in test]\n",
    "\n",
    "size=(224,224)\n",
    "test_resize= np.array([np.array(img.resize(size, Image.LANCZOS), dtype=\"uint8\") for img in test_data])"
   ]
  },
  {
   "cell_type": "code",
   "execution_count": 9,
   "id": "b3f18ca0-8ae8-4cc4-996e-0151d94e767a",
   "metadata": {},
   "outputs": [],
   "source": [
    "class MyDataset3(torch.utils.data.Dataset):\n",
    "    def __init__(self, file_list, label_list = None, P = None, A = None):\n",
    "        self.P = P\n",
    "        self.A = A\n",
    "        self.data = file_list\n",
    "        self.label = label_list\n",
    "    def __len__(self):\n",
    "        return len(self.data)\n",
    "    def __getitem__(self, idx):\n",
    "        data = self.data[idx]\n",
    "        if self.label is not None:\n",
    "            label = self.label[idx]\n",
    "        else:\n",
    "            label = 0\n",
    "        data = Image.fromarray(data)\n",
    "        if self.P:\n",
    "            data = self.P(data)\n",
    "        if self.A:\n",
    "            data = np.asarray(data).transpose(1,2,0)\n",
    "            image = self.A(image = data)\n",
    "            data = image['image']\n",
    "        data = data.transpose(2,1,0)\n",
    "        return data.astype('f'), label"
   ]
  },
  {
   "cell_type": "code",
   "execution_count": 11,
   "id": "7421bd37-c49d-477b-a763-1c26d8266699",
   "metadata": {},
   "outputs": [],
   "source": [
    "test_tf = T.Compose([\n",
    "    T.ToTensor(),\n",
    "    T.Normalize(mean=[0.5, 0.5, 0.5], std=[0.5, 0.5, 0.5]),\n",
    "])\n",
    "test_A = A.Compose([\n",
    "])\n",
    "test_set = MyDataset3(test_resize, P = test_tf,  A = test_A)\n",
    "test_loader = DataLoader(test_set, batch_size = 8, shuffle = False)"
   ]
  },
  {
   "cell_type": "code",
   "execution_count": 12,
   "id": "bea38901-c277-4f06-9e48-1b6fcd3a3dfd",
   "metadata": {},
   "outputs": [],
   "source": [
    "vit_model = ViTModel.from_pretrained('google/vit-base-patch16-224-in21k', output_attentions=False)"
   ]
  },
  {
   "cell_type": "code",
   "execution_count": 13,
   "id": "4745e85c-73e0-4227-b415-a8fce3dfcd9e",
   "metadata": {},
   "outputs": [],
   "source": [
    "class ViTNet(nn.Module):\n",
    "    def __init__(self, pretrained_vit_model, class_num):\n",
    "        super(ViTNet, self).__init__()\n",
    "        self.vit = pretrained_vit_model\n",
    "        self.fc = nn.Linear(768, class_num)\n",
    "\n",
    "    def _get_cls_vec(self, states):\n",
    "        return states['last_hidden_state'][:, 0, :]\n",
    "\n",
    "    def forward(self, input_ids):\n",
    "        states = self.vit(input_ids)\n",
    "        states = self._get_cls_vec(states)\n",
    "        states = self.fc(states)\n",
    "        return states"
   ]
  },
  {
   "cell_type": "code",
   "execution_count": 26,
   "id": "2e931131-815a-48e6-8c7c-96730910ed41",
   "metadata": {},
   "outputs": [],
   "source": [
    "final_softmax = {}\n",
    "for i in range(5):\n",
    "    model = ViTNet(vit_model, 2)\n",
    "    for param in model.parameters():\n",
    "        param.requires_grad = False\n",
    "    model_path = MODEL_PATH + f'/fold{i}_best.pth'\n",
    "    model.load_state_dict(torch.load(model_path))\n",
    "    model.to(device)\n",
    "    m = nn.Softmax(dim=1)\n",
    "    check_input = []\n",
    "    check_output = []\n",
    "    check_softmax = []\n",
    "    model.eval()\n",
    "    with torch.no_grad():\n",
    "        for test_imgs,test_labels in test_loader:\n",
    "            test_imgs = test_imgs.to(device)\n",
    "            test_output = model(test_imgs)\n",
    "            test_softmax = m(test_output.cpu().detach())\n",
    "            check_input.append(test_imgs.cpu())\n",
    "            check_output.append(test_output.cpu().detach())\n",
    "            check_softmax.append(test_softmax)\n",
    "            \n",
    "    show_input = torch.cat(check_input).numpy().transpose(0,2,3,1)\n",
    "    show_output = torch.cat(check_output).numpy()\n",
    "    show_softmax = torch.cat(check_softmax).numpy()\n",
    "    \n",
    "    final_softmax[f\"model{i}\"] = show_softmax[:,1]"
   ]
  },
  {
   "cell_type": "code",
   "execution_count": 24,
   "id": "baf0212c-0d7f-4967-b04f-f6de04079bd2",
   "metadata": {},
   "outputs": [],
   "source": [
    "pd.DataFrame(final_softmax).to_csv('csv/vit.csv',index=False)"
   ]
  },
  {
   "cell_type": "code",
   "execution_count": null,
   "id": "aa716a6e-7d4c-4969-9089-98ae5a61cebd",
   "metadata": {},
   "outputs": [],
   "source": []
  }
 ],
 "metadata": {
  "kernelspec": {
   "display_name": "Python 3",
   "language": "python",
   "name": "python3"
  },
  "language_info": {
   "codemirror_mode": {
    "name": "ipython",
    "version": 3
   },
   "file_extension": ".py",
   "mimetype": "text/x-python",
   "name": "python",
   "nbconvert_exporter": "python",
   "pygments_lexer": "ipython3",
   "version": "3.8.8"
  }
 },
 "nbformat": 4,
 "nbformat_minor": 5
}
