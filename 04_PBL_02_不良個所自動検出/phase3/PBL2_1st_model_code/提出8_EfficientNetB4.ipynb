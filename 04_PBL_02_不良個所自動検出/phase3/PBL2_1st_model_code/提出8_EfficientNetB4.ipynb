{
 "cells": [
  {
   "cell_type": "markdown",
   "id": "f115b254-4d44-4d83-a80d-df6c1a7a7f3d",
   "metadata": {},
   "source": [
    "### EfficientNetB4評価\n",
    "#### 前提条件\n",
    "* 学習時に保存したDAYと同じpathを指定"
   ]
  },
  {
   "cell_type": "code",
   "execution_count": 1,
   "id": "3e692b29-6c6d-4e14-8ded-8d366a8cd260",
   "metadata": {},
   "outputs": [],
   "source": [
    "import os\n",
    "import glob\n",
    "import random\n",
    "from PIL import Image\n",
    "\n",
    "import numpy as np\n",
    "import pandas as pd\n",
    "import matplotlib.pyplot as plt\n",
    "\n",
    "import torch\n",
    "import torch.nn as nn\n",
    "from torchvision import transforms as T\n",
    "from torch.utils.data import DataLoader\n",
    "import albumentations as A\n",
    "from efficientnet_pytorch import EfficientNet"
   ]
  },
  {
   "cell_type": "code",
   "execution_count": 2,
   "id": "2c99e2ad-fd4c-4048-ab54-c23ff3f054d7",
   "metadata": {},
   "outputs": [],
   "source": [
    "device = torch.device(\"cuda\", 0) if torch.cuda.is_available() else \"cpu\"\n",
    "count = torch.cuda.device_count()\n",
    "def fix_seed(seed):\n",
    "    random.seed(seed)\n",
    "    np.random.seed(seed)\n",
    "    torch.manual_seed(seed)\n",
    "SEED = 42\n",
    "fix_seed(SEED)"
   ]
  },
  {
   "cell_type": "code",
   "execution_count": 5,
   "id": "9fdaa6d5-05e7-4bd2-b526-358c546d7157",
   "metadata": {},
   "outputs": [],
   "source": [
    "def make_datapath_list(root_path):\n",
    "    path_list = []\n",
    "    target_path = os.path.join(\"data\" + root_path + f'/*.jpeg')\n",
    "    for path in glob.glob(target_path):\n",
    "        path_list.append(path)\n",
    "    path_list.sort()\n",
    "    path_list = [os.path.basename(p) for p in path_list]\n",
    "    return path_list"
   ]
  },
  {
   "cell_type": "code",
   "execution_count": 6,
   "id": "d48aa669-849c-409a-ad42-4f1454d2e60f",
   "metadata": {},
   "outputs": [],
   "source": [
    "BASE1 = \"progress\"\n",
    "DAY = \"/test\"#学習時と同じ名前を指定\n",
    "MODEL_PATH = \"{}/model\".format(BASE1 + DAY)\n",
    "PIC_PATH = \"{}/pic\".format(BASE1 + DAY)\n",
    "os.makedirs(MODEL_PATH, exist_ok=True)\n",
    "os.makedirs(PIC_PATH, exist_ok=True)"
   ]
  },
  {
   "cell_type": "code",
   "execution_count": 7,
   "id": "9e4cce68-6581-4624-94a8-e1438b581198",
   "metadata": {},
   "outputs": [],
   "source": [
    "test = make_datapath_list('/crip_test')\n",
    "test_data = [Image.open('data/crip_test/' + i) for i in test]\n",
    "\n",
    "size=(224,224)\n",
    "test_resize= np.array([np.array(img.resize(size, Image.LANCZOS), dtype=\"uint8\") for img in test_data])"
   ]
  },
  {
   "cell_type": "code",
   "execution_count": 8,
   "id": "ad2918c2-3a69-480b-9b11-75170d17c6b2",
   "metadata": {},
   "outputs": [],
   "source": [
    "class MyDataset3(torch.utils.data.Dataset):\n",
    "    def __init__(self, file_list, label_list = None, P = None, A = None):\n",
    "        self.P = P\n",
    "        self.A = A\n",
    "        self.data = file_list\n",
    "        self.label = label_list\n",
    "    def __len__(self):\n",
    "        return len(self.data)\n",
    "    def __getitem__(self, idx):\n",
    "        data = self.data[idx]\n",
    "        if self.label is not None:\n",
    "            label = self.label[idx]\n",
    "        else:\n",
    "            label = 0\n",
    "        data = Image.fromarray(data)\n",
    "        if self.P:\n",
    "            data = self.P(data)\n",
    "        if self.A:\n",
    "            data = np.asarray(data).transpose(1,2,0)\n",
    "            image = self.A(image = data)\n",
    "            data = image['image']\n",
    "        data = data.transpose(2,1,0)\n",
    "        return data.astype('f'), label"
   ]
  },
  {
   "cell_type": "code",
   "execution_count": 9,
   "id": "505b0281-a512-4467-b80f-3520dc409809",
   "metadata": {},
   "outputs": [],
   "source": [
    "test_tf = T.Compose([\n",
    "    T.ToTensor(),\n",
    "    T.Normalize(mean=[0.485, 0.456, 0.406], std=[0.229, 0.224, 0.225]),\n",
    "])\n",
    "test_A = A.Compose([\n",
    "])\n",
    "test_set = MyDataset3(test_resize, P = test_tf,  A = test_A)\n",
    "test_loader = DataLoader(test_set, batch_size = 8, shuffle = False)"
   ]
  },
  {
   "cell_type": "code",
   "execution_count": 11,
   "id": "321a4f27-c8b8-4ba6-93ec-4d9f342fc40f",
   "metadata": {},
   "outputs": [
    {
     "name": "stdout",
     "output_type": "stream",
     "text": [
      "Loaded pretrained weights for efficientnet-b4\n"
     ]
    }
   ],
   "source": [
    "eff_model = EfficientNet.from_pretrained('efficientnet-b4')"
   ]
  },
  {
   "cell_type": "code",
   "execution_count": 12,
   "id": "994d7f61-2e47-40ae-99b7-f7d3b66c4eed",
   "metadata": {},
   "outputs": [],
   "source": [
    "class EffNet(nn.Module):\n",
    "    def __init__(self, pretrained_eff_model, class_num):\n",
    "        super(EffNet, self).__init__()\n",
    "        self.eff = pretrained_eff_model\n",
    "        self.fc1 = nn.Linear(1000, 100)\n",
    "        self.fc2 = nn.Linear(100, class_num)\n",
    "        self.dropout = nn.Dropout(0.5)\n",
    "        self.relu = nn.ReLU()\n",
    "\n",
    "    def forward(self, input_ids):\n",
    "        states = self.eff(input_ids)\n",
    "        states = self.relu(self.fc1(states))\n",
    "        states = self.dropout(states)\n",
    "        states = self.fc2(states)\n",
    "        return states"
   ]
  },
  {
   "cell_type": "code",
   "execution_count": 14,
   "id": "28f5b163-d46a-471b-a169-273f0381a1fe",
   "metadata": {},
   "outputs": [],
   "source": [
    "final_softmax = {}\n",
    "for i in range(5):\n",
    "    model = EffNet(eff_model, 2)\n",
    "    for param in model.parameters():\n",
    "        param.requires_grad = False\n",
    "    model_path = MODEL_PATH + f'/fold{i}_best.pth'\n",
    "    model.load_state_dict(torch.load(model_path))\n",
    "    model.to(device)\n",
    "    m = nn.Softmax(dim=1)\n",
    "    check_input = []\n",
    "    check_output = []\n",
    "    check_softmax = []\n",
    "    model.eval()\n",
    "    with torch.no_grad():\n",
    "        for test_imgs,test_labels in test_loader:\n",
    "            test_imgs = test_imgs.to(device)\n",
    "            test_output = model(test_imgs)\n",
    "            test_softmax = m(test_output.cpu().detach())\n",
    "            check_input.append(test_imgs.cpu())\n",
    "            check_output.append(test_output.cpu().detach())\n",
    "            check_softmax.append(test_softmax)\n",
    "            \n",
    "    show_input = torch.cat(check_input).numpy().transpose(0,2,3,1)\n",
    "    show_output = torch.cat(check_output).numpy()\n",
    "    show_softmax = torch.cat(check_softmax).numpy()\n",
    "    \n",
    "    final_softmax[f\"model{i}\"] = show_softmax[:,1]"
   ]
  },
  {
   "cell_type": "code",
   "execution_count": 16,
   "id": "f8d98cdf-dd1a-4fd4-8bc9-221e31073a51",
   "metadata": {},
   "outputs": [],
   "source": [
    "pd.DataFrame(final_softmax).to_csv('csv/eff.csv',index=False)"
   ]
  },
  {
   "cell_type": "code",
   "execution_count": null,
   "id": "e4da6b58-6a18-4ca5-9d29-76f60e19b362",
   "metadata": {},
   "outputs": [],
   "source": []
  },
  {
   "cell_type": "code",
   "execution_count": null,
   "id": "594f0949-1e3e-4a76-a4cd-df604cfb6b71",
   "metadata": {},
   "outputs": [],
   "source": []
  }
 ],
 "metadata": {
  "kernelspec": {
   "display_name": "Python 3",
   "language": "python",
   "name": "python3"
  },
  "language_info": {
   "codemirror_mode": {
    "name": "ipython",
    "version": 3
   },
   "file_extension": ".py",
   "mimetype": "text/x-python",
   "name": "python",
   "nbconvert_exporter": "python",
   "pygments_lexer": "ipython3",
   "version": "3.8.8"
  }
 },
 "nbformat": 4,
 "nbformat_minor": 5
}
