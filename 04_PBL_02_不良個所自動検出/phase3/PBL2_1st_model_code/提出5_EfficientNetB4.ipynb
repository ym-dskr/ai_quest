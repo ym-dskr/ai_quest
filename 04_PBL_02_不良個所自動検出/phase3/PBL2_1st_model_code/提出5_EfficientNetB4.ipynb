{
 "cells": [
  {
   "cell_type": "markdown",
   "id": "9043537a-0b06-40bc-a7eb-35bd1280f07f",
   "metadata": {},
   "source": [
    "### EfficientNetB4\n",
    "#### 前提条件\n",
    "* トリミング画像をnew_data/からdata/crip_~に移し替えていること\n",
    "* data/add_bridge/が存在し、アップサンプルした画像が存在していること\n",
    "* regular6,8,47,61,95を削除\n",
    "* potato0を削除\n",
    "* horn53,44,32,30,16を削除"
   ]
  },
  {
   "cell_type": "code",
   "execution_count": 1,
   "id": "ab2432fd-fcd0-44b6-bb67-77ae67934e58",
   "metadata": {},
   "outputs": [],
   "source": [
    "import os\n",
    "import glob\n",
    "import random\n",
    "from PIL import Image\n",
    "from tqdm import tqdm\n",
    "\n",
    "import numpy as np\n",
    "import pandas as pd\n",
    "import matplotlib.pyplot as plt\n",
    "from sklearn.metrics import f1_score\n",
    "\n",
    "import torch\n",
    "import torch.nn as nn\n",
    "import torch.optim as optim\n",
    "from torchvision import transforms as T\n",
    "from torch.utils.data import DataLoader\n",
    "import albumentations as A\n",
    "from sklearn.model_selection import StratifiedKFold\n",
    "from efficientnet_pytorch import EfficientNet"
   ]
  },
  {
   "cell_type": "code",
   "execution_count": 2,
   "id": "bf1749b9-e529-4cff-9d71-1828be2c7571",
   "metadata": {},
   "outputs": [],
   "source": [
    "device = torch.device(\"cuda\", 0) if torch.cuda.is_available() else \"cpu\"\n",
    "count = torch.cuda.device_count()\n",
    "def fix_seed(seed):\n",
    "    random.seed(seed)\n",
    "    np.random.seed(seed)\n",
    "    torch.manual_seed(seed)\n",
    "SEED = 42\n",
    "fix_seed(SEED)"
   ]
  },
  {
   "cell_type": "code",
   "execution_count": 3,
   "id": "31549c61-fde1-4764-baf3-ff580e41e4dc",
   "metadata": {},
   "outputs": [],
   "source": [
    "BASE1 = \"progress\"\n",
    "DAY = \"/test\"#好きな名前を入れる（自分は日付をいれます）\n",
    "MODEL_PATH = \"{}/model\".format(BASE1 + DAY)\n",
    "PIC_PATH = \"{}/pic\".format(BASE1 + DAY)\n",
    "os.makedirs(MODEL_PATH, exist_ok=True)\n",
    "os.makedirs(PIC_PATH, exist_ok=True)"
   ]
  },
  {
   "cell_type": "code",
   "execution_count": 4,
   "id": "bf7a45f4-71f7-458a-8797-71303ceeafaf",
   "metadata": {},
   "outputs": [],
   "source": [
    "df = pd.read_csv(\"csv/train_master.tsv\")\n",
    "label = np.array(df[\"flag\"])"
   ]
  },
  {
   "cell_type": "code",
   "execution_count": 5,
   "id": "67481847-7690-4202-a5f9-b3d3ee4532b3",
   "metadata": {},
   "outputs": [],
   "source": [
    "def inverse_lookup(d, x):\n",
    "    file_name = d[\"file_name\"]\n",
    "    flag = d[\"flag\"]\n",
    "    for k, v in file_name.items():\n",
    "        if x == v:\n",
    "            return flag[k]\n",
    "def make_datapath_list(root_path):\n",
    "    path_list = []\n",
    "    target_path = os.path.join(\"data\" + root_path + f'/*.jpeg')\n",
    "    for path in glob.glob(target_path):\n",
    "        path_list.append(path)\n",
    "    path_list.sort()\n",
    "    path_list = [os.path.basename(p) for p in path_list]\n",
    "    return path_list"
   ]
  },
  {
   "cell_type": "code",
   "execution_count": 6,
   "id": "1eecb140-48f3-43c1-91e8-29aeb16f3049",
   "metadata": {},
   "outputs": [],
   "source": [
    "bridge = make_datapath_list('/crip_train/bridge')\n",
    "bridge_data = [Image.open('data/crip_train/bridge/' + i) for i in bridge]\n",
    "bridge_label = np.array([inverse_lookup(df.to_dict(), os.path.basename(b)) for b in bridge])\n",
    "horn = make_datapath_list('/crip_train/horn')\n",
    "horn_data = [Image.open('data/crip_train/horn/' + i) for i in horn]\n",
    "horn_label = np.array([inverse_lookup(df.to_dict(), os.path.basename(b)) for b in horn])\n",
    "potato = make_datapath_list('/crip_train/potato')\n",
    "potato_data = [Image.open('data/crip_train/potato/' + i) for i in potato]\n",
    "potato_label = np.array([inverse_lookup(df.to_dict(), os.path.basename(b)) for b in potato])\n",
    "regular = make_datapath_list('/crip_train/regular')\n",
    "regular_data = [Image.open('data/crip_train/regular/' + i) for i in regular]\n",
    "regular_label = np.array([inverse_lookup(df.to_dict(), os.path.basename(b)) for b in regular])"
   ]
  },
  {
   "cell_type": "code",
   "execution_count": 7,
   "id": "4d1c3e97-e6da-4f18-9e77-460cd21b5e28",
   "metadata": {},
   "outputs": [],
   "source": [
    "size=(224,224)\n",
    "bridge_resize= np.array([np.array(img.resize(size, Image.LANCZOS), dtype=\"uint8\") for img in bridge_data])\n",
    "horn_resize= np.array([np.array(img.resize(size, Image.LANCZOS), dtype=\"uint8\") for img in horn_data])\n",
    "potato_resize= np.array([np.array(img.resize(size, Image.LANCZOS), dtype=\"uint8\") for img in potato_data])\n",
    "regular_resize= np.array([np.array(img.resize(size, Image.LANCZOS), dtype=\"uint8\") for img in regular_data])"
   ]
  },
  {
   "cell_type": "code",
   "execution_count": 8,
   "id": "eb2bc2b8-2160-43bc-9916-3995e5f31216",
   "metadata": {},
   "outputs": [],
   "source": [
    "#ラベル毎に分かれているのでStratifiedKFoldである必要は無いです。\n",
    "#試行錯誤中にこうなっているだけです。\n",
    "split=5\n",
    "bridge_sp = StratifiedKFold(n_splits=split, random_state=0, shuffle=True)\n",
    "horn_sp = StratifiedKFold(n_splits=split, random_state=0, shuffle=True)\n",
    "potato_sp = StratifiedKFold(n_splits=split, random_state=0, shuffle=True)\n",
    "regular_sp = StratifiedKFold(n_splits=split, random_state=0, shuffle=True)"
   ]
  },
  {
   "cell_type": "code",
   "execution_count": 9,
   "id": "13117098-8baf-447a-ba9d-d1991a009297",
   "metadata": {},
   "outputs": [],
   "source": [
    "class GridMask():\n",
    "    def __init__(self, p=0.6, d_range=(96, 224), r=0.6):\n",
    "        self.p = p\n",
    "        self.d_range = d_range\n",
    "        self.r = r\n",
    "        \n",
    "    def __call__(self, sample):\n",
    "        \"\"\"\n",
    "        sample: torch.Tensor(3, height, width)\n",
    "        \"\"\"\n",
    "        if np.random.uniform() > self.p:\n",
    "            return sample\n",
    "        sample = sample.numpy()\n",
    "        side = sample.shape[1]\n",
    "        d = np.random.randint(*self.d_range, dtype=np.uint8)\n",
    "        r = int(self.r * d)\n",
    "        \n",
    "        mask = np.ones((side+d, side+d), dtype=np.uint8)\n",
    "        for i in range(0, side+d, d):\n",
    "            for j in range(0, side+d, d):\n",
    "                mask[i: i+(d-r), j: j+(d-r)] = 0\n",
    "        delta_x, delta_y = np.random.randint(0, d, size=2)\n",
    "        mask = mask[delta_x: delta_x+side, delta_y: delta_y+side]\n",
    "        sample *= np.expand_dims(mask, 0)\n",
    "        return torch.from_numpy(sample)\n",
    "\n",
    "class MyDataset3(torch.utils.data.Dataset):\n",
    "    def __init__(self, file_list, label_list = None, P = None, A = None):\n",
    "        self.P = P\n",
    "        self.A = A\n",
    "        self.data = file_list\n",
    "        self.label = label_list\n",
    "    def __len__(self):\n",
    "        return len(self.data)\n",
    "    def __getitem__(self, idx):\n",
    "        data = self.data[idx]\n",
    "        if self.label is not None:\n",
    "            label = self.label[idx]\n",
    "        else:\n",
    "            label = 0\n",
    "        data = Image.fromarray(data)\n",
    "        if self.P:\n",
    "            data = self.P(data)\n",
    "        if self.A:\n",
    "            data = np.asarray(data).transpose(1,2,0)\n",
    "            image = self.A(image = data)\n",
    "            data = image['image']\n",
    "        data = data.transpose(2,1,0)\n",
    "        return data.astype('f'), label"
   ]
  },
  {
   "cell_type": "code",
   "execution_count": 10,
   "id": "6821b90f-dad2-43d3-8658-a0880440174f",
   "metadata": {},
   "outputs": [],
   "source": [
    "#GaussNoiseは実際要らなかったかも\n",
    "train_tf = T.Compose([\n",
    "    T.ToTensor(),\n",
    "    T.Normalize(mean=[0.5, 0.5, 0.5], std=[0.5, 0.5, 0.5]),\n",
    "    GridMask(p=0.5, d_range=(96, 224), r=0.5),\n",
    "])\n",
    "val_tf = T.Compose([\n",
    "    T.ToTensor(),\n",
    "    T.Normalize(mean=[0.5, 0.5, 0.5], std=[0.5, 0.5, 0.5]),\n",
    "])\n",
    "train_A = A.Compose([\n",
    "    A.HorizontalFlip(p=0.5),\n",
    "    A.VerticalFlip(p=0.5),\n",
    "    A.Rotate(limit=(-5,5), p=0.3),\n",
    "    A.RandomRotate90(p=0.5),\n",
    "    A.RandomBrightnessContrast(p=0.5),\n",
    "])\n",
    "val_A = A.Compose([\n",
    "])"
   ]
  },
  {
   "cell_type": "code",
   "execution_count": 14,
   "id": "7730e3f4-2f80-45d8-a427-3a1fb8f52fc4",
   "metadata": {},
   "outputs": [],
   "source": [
    "class EffNet(nn.Module):\n",
    "    def __init__(self, pretrained_eff_model, class_num):\n",
    "        super(EffNet, self).__init__()\n",
    "        self.eff = pretrained_eff_model\n",
    "        self.fc1 = nn.Linear(1000, 100)\n",
    "        self.fc2 = nn.Linear(100, class_num)\n",
    "        self.dropout = nn.Dropout(0.5)\n",
    "        self.relu = nn.ReLU()\n",
    "\n",
    "    def forward(self, input_ids):\n",
    "        states = self.eff(input_ids)\n",
    "        states = self.relu(self.fc1(states))\n",
    "        states = self.dropout(states)\n",
    "        states = self.fc2(states)\n",
    "        return states\n",
    "def save_plot(train,val,tlabel,vlabel,path):\n",
    "    fig=plt.figure()\n",
    "    plt.style.use(\"ggplot\")\n",
    "    plt.plot(train[5:],label=tlabel)\n",
    "    plt.plot(val[5:],label=vlabel)\n",
    "    plt.legend()\n",
    "    fig.savefig(path)\n",
    "    return"
   ]
  },
  {
   "cell_type": "code",
   "execution_count": 15,
   "id": "7b8dc5ad-ce19-43b6-bea9-8ab3462bf84b",
   "metadata": {},
   "outputs": [
    {
     "name": "stdout",
     "output_type": "stream",
     "text": [
      "====================fold0====================\n",
      "Loaded pretrained weights for efficientnet-b4\n"
     ]
    },
    {
     "name": "stderr",
     "output_type": "stream",
     "text": [
      "  0%|          | 0/1 [00:00<?, ?it/s]"
     ]
    },
    {
     "name": "stdout",
     "output_type": "stream",
     "text": [
      "epoch:0, loss:0.7044988423585892, f1:0.6483364443134557, val loss:0.6931471228599548, val f1:0.6666666666666666\n"
     ]
    },
    {
     "name": "stderr",
     "output_type": "stream",
     "text": [
      "100%|██████████| 1/1 [00:02<00:00,  2.85s/it]\n"
     ]
    },
    {
     "name": "stdout",
     "output_type": "stream",
     "text": [
      "====================fold1====================\n",
      "Loaded pretrained weights for efficientnet-b4\n"
     ]
    },
    {
     "name": "stderr",
     "output_type": "stream",
     "text": [
      "  0%|          | 0/1 [00:00<?, ?it/s]"
     ]
    },
    {
     "name": "stdout",
     "output_type": "stream",
     "text": [
      "epoch:0, loss:0.684809222817421, f1:0.6713968502761606, val loss:0.6384350657463074, val f1:0.7816091954022987\n"
     ]
    },
    {
     "name": "stderr",
     "output_type": "stream",
     "text": [
      "100%|██████████| 1/1 [00:03<00:00,  3.10s/it]\n"
     ]
    },
    {
     "name": "stdout",
     "output_type": "stream",
     "text": [
      "====================fold2====================\n",
      "Loaded pretrained weights for efficientnet-b4\n"
     ]
    },
    {
     "name": "stderr",
     "output_type": "stream",
     "text": [
      "  0%|          | 0/1 [00:00<?, ?it/s]"
     ]
    },
    {
     "name": "stdout",
     "output_type": "stream",
     "text": [
      "epoch:0, loss:0.7329413592815399, f1:0.578377504848093, val loss:0.6670964956283569, val f1:0.7407407407407407\n"
     ]
    },
    {
     "name": "stderr",
     "output_type": "stream",
     "text": [
      "100%|██████████| 1/1 [00:03<00:00,  3.01s/it]\n"
     ]
    },
    {
     "name": "stdout",
     "output_type": "stream",
     "text": [
      "====================fold3====================\n",
      "Loaded pretrained weights for efficientnet-b4\n"
     ]
    },
    {
     "name": "stderr",
     "output_type": "stream",
     "text": [
      "  0%|          | 0/1 [00:00<?, ?it/s]"
     ]
    },
    {
     "name": "stdout",
     "output_type": "stream",
     "text": [
      "epoch:0, loss:0.7278010547161102, f1:0.6495801980798229, val loss:0.6648208498954773, val f1:0.7816091954022989\n"
     ]
    },
    {
     "name": "stderr",
     "output_type": "stream",
     "text": [
      "100%|██████████| 1/1 [00:03<00:00,  3.68s/it]\n"
     ]
    },
    {
     "name": "stdout",
     "output_type": "stream",
     "text": [
      "====================fold4====================\n",
      "Loaded pretrained weights for efficientnet-b4\n"
     ]
    },
    {
     "name": "stderr",
     "output_type": "stream",
     "text": [
      "  0%|          | 0/1 [00:00<?, ?it/s]"
     ]
    },
    {
     "name": "stdout",
     "output_type": "stream",
     "text": [
      "epoch:0, loss:0.7586893886327744, f1:0.5326302050439982, val loss:0.653597354888916, val f1:0.7368421052631577\n"
     ]
    },
    {
     "name": "stderr",
     "output_type": "stream",
     "text": [
      "100%|██████████| 1/1 [00:02<00:00,  2.83s/it]\n"
     ]
    },
    {
     "data": {
      "image/png": "[encoded data removed]",
      "text/plain": [
       "<Figure size 432x288 with 1 Axes>"
      ]
     },
     "metadata": {
      "needs_background": "light"
     },
     "output_type": "display_data"
    },
    {
     "data": {
      "image/png": "[encoded data removed]",
      "text/plain": [
       "<Figure size 432x288 with 1 Axes>"
      ]
     },
     "metadata": {},
     "output_type": "display_data"
    },
    {
     "data": {
      "image/png": "[encoded data removed]",
      "text/plain": [
       "<Figure size 432x288 with 1 Axes>"
      ]
     },
     "metadata": {},
     "output_type": "display_data"
    },
    {
     "data": {
      "image/png": "[encoded data removed]",
      "text/plain": [
       "<Figure size 432x288 with 1 Axes>"
      ]
     },
     "metadata": {},
     "output_type": "display_data"
    },
    {
     "data": {
      "image/png": "[encoded data removed]",
      "text/plain": [
       "<Figure size 432x288 with 1 Axes>"
      ]
     },
     "metadata": {},
     "output_type": "display_data"
    },
    {
     "data": {
      "image/png": "[encoded data removed]",
      "text/plain": [
       "<Figure size 432x288 with 1 Axes>"
      ]
     },
     "metadata": {},
     "output_type": "display_data"
    },
    {
     "data": {
      "image/png": "[encoded data removed]",
      "text/plain": [
       "<Figure size 432x288 with 1 Axes>"
      ]
     },
     "metadata": {},
     "output_type": "display_data"
    },
    {
     "data": {
      "image/png": "[encoded data removed]",
      "text/plain": [
       "<Figure size 432x288 with 1 Axes>"
      ]
     },
     "metadata": {},
     "output_type": "display_data"
    },
    {
     "data": {
      "image/png": "[encoded data removed]",
      "text/plain": [
       "<Figure size 432x288 with 1 Axes>"
      ]
     },
     "metadata": {},
     "output_type": "display_data"
    },
    {
     "data": {
      "image/png": "[encoded data removed]",
      "text/plain": [
       "<Figure size 432x288 with 1 Axes>"
      ]
     },
     "metadata": {},
     "output_type": "display_data"
    }
   ],
   "source": [
    "#300で試してました。\n",
    "num_epoch = 1\n",
    "for i in range(split):\n",
    "    print(f\"====================fold{i}====================\")\n",
    "    bridge_idx, bridge_idy = list(bridge_sp.split(bridge_resize, bridge_label))[i]\n",
    "    horn_idx, horn_idy = list(horn_sp.split(horn_resize, horn_label))[i]\n",
    "    potato_idx, potato_idy = list(potato_sp.split(potato_resize, potato_label))[i]\n",
    "    regular_idx, regular_idy = list(regular_sp.split(regular_resize, regular_label))[i]\n",
    "    train_bridge_list, val_bridge_list = bridge_resize[bridge_idx], bridge_resize[bridge_idy]\n",
    "    train_bridge_label, val_bridge_label = bridge_label[bridge_idx], bridge_label[bridge_idy]\n",
    "    train_horn_list, val_horn_list = horn_resize[horn_idx], horn_resize[horn_idy]\n",
    "    train_horn_label, val_horn_label = horn_label[horn_idx], horn_label[horn_idy]\n",
    "    train_potato_list, val_potato_list = potato_resize[potato_idx], potato_resize[potato_idy]\n",
    "    train_potato_label, val_potato_label = potato_label[potato_idx], potato_label[potato_idy]\n",
    "    train_regular_list, val_regular_list = regular_resize[regular_idx], regular_resize[regular_idy]\n",
    "    train_regular_label, val_regular_label = regular_label[regular_idx], regular_label[regular_idy]\n",
    "    train_list = np.concatenate([train_bridge_list, train_horn_list, train_potato_list, train_regular_list])\n",
    "    val_list = np.concatenate([val_bridge_list, val_horn_list, val_potato_list, val_regular_list])\n",
    "    train_label = np.concatenate([train_bridge_label, train_horn_label, train_potato_label, train_regular_label])\n",
    "    val_label = np.concatenate([val_bridge_label, val_horn_label, val_potato_label, val_regular_label])\n",
    "    \n",
    "    train_set = MyDataset3(train_list, train_label, P = train_tf, A = train_A)\n",
    "    val_set = MyDataset3(val_list, val_label, P = val_tf,  A = val_A)\n",
    "    train_loader = DataLoader(train_set, batch_size = 64, shuffle = True)\n",
    "    val_loader = DataLoader(val_set, batch_size = 64, shuffle = False)\n",
    "    \n",
    "    s = [\"s_\"+d for d in np.array(bridge)[bridge_idx]]\n",
    "    index1 = [i for i,add in enumerate(add_bridge) if add in np.array(bridge)[bridge_idx]]\n",
    "    index2 = [i for i,add in enumerate(add_bridge) if add in np.array(s)]\n",
    "    train_list = np.concatenate([train_list, add_bridge_resize[index1], add_bridge_resize[index2]])\n",
    "    train_label = np.concatenate([train_label, add_bridge_label[index1], add_bridge_label[index2]])\n",
    "    \n",
    "    eff_model = EfficientNet.from_pretrained('efficientnet-b4')\n",
    "    model = EffNet(eff_model, 2)\n",
    "    for param in model.parameters():\n",
    "        param.requires_grad = True\n",
    "        \n",
    "    criterion=nn.CrossEntropyLoss()\n",
    "    optimizer=optim.Adam(model.parameters(), lr = 0.00005)\n",
    "    model.to(device)\n",
    "    model = torch.nn.DataParallel(model, device_ids=[0])\n",
    "        \n",
    "    fold = 0\n",
    "    best_score = 0\n",
    "    losses = []\n",
    "    acces = []\n",
    "    val_losses = []\n",
    "    val_acces = []\n",
    "    for epoch in tqdm(range(num_epoch)):\n",
    "        model.train()\n",
    "        run_loss = 0.0\n",
    "        run_acc = 0.0\n",
    "        for imgs, labels in train_loader:\n",
    "            imgs, labels = imgs.to(device), labels.to(device)\n",
    "            optimizer.zero_grad()\n",
    "            output = model(imgs)\n",
    "            loss = criterion(output, labels.long())\n",
    "            loss.backward()\n",
    "            pred = torch.argmax(output,dim=1)\n",
    "            optimizer.step()\n",
    "            run_loss += loss.item()\n",
    "            run_acc += f1_score(labels.cpu().numpy(), pred.cpu().numpy())\n",
    "        run_loss /= len(train_loader)\n",
    "        run_acc /= len(train_loader)\n",
    "        losses.append(run_loss)\n",
    "        acces.append(run_acc)\n",
    "\n",
    "        val_run_loss=0.0\n",
    "        val_run_acc=0.0\n",
    "        model.eval()\n",
    "        with torch.no_grad():\n",
    "            for val_imgs,val_labels in val_loader:\n",
    "                val_imgs, val_labels = val_imgs.to(device), val_labels.to(device)\n",
    "                val_output = model(val_imgs)\n",
    "                val_loss = criterion(val_output, val_labels.long())\n",
    "                val_run_loss += val_loss.item()\n",
    "                val_pred = torch.argmax(val_output, dim = 1)\n",
    "                val_run_acc += f1_score(val_labels.cpu().numpy(), val_pred.cpu().numpy())\n",
    "            val_run_loss /= len(val_loader)\n",
    "            val_run_acc /= len(val_loader)\n",
    "        val_losses.append(val_run_loss)\n",
    "        val_acces.append(val_run_acc)\n",
    "        print(\"epoch:{}, loss:{}, f1:{}, val loss:{}, val f1:{}\"\n",
    "              .format(epoch,run_loss, run_acc, val_run_loss, val_run_acc))\n",
    "\n",
    "        #validationの評価で最もF1スコアが良かったモデルは保存\n",
    "        score = val_run_loss\n",
    "        if score < best_score:\n",
    "            best_score = score\n",
    "            torch.save(model.module.to('cpu').state_dict(), MODEL_PATH + f\"/fold{i}_best.pth\")\n",
    "            model.to(device)\n",
    "        else:\n",
    "            continue\n",
    "\n",
    "    torch.save(model.module.to('cpu').state_dict(), MODEL_PATH + f\"/fold{i}_last.pth\")\n",
    "    save_plot(losses,val_losses,\"train loss\",\"val loss\", PIC_PATH + f\"/fold{i}_loss.png\")\n",
    "    save_plot(acces,val_acces,\"train F1\",\"val F1\", PIC_PATH + f\"/fold{i}_F1.png\")"
   ]
  },
  {
   "cell_type": "code",
   "execution_count": null,
   "id": "45a4a999-f81f-4866-9ac0-d54a118e709f",
   "metadata": {},
   "outputs": [],
   "source": []
  },
  {
   "cell_type": "code",
   "execution_count": null,
   "id": "fbe7eb3a-091f-4566-9e48-5f9020818847",
   "metadata": {},
   "outputs": [],
   "source": []
  },
  {
   "cell_type": "code",
   "execution_count": null,
   "id": "509fbe48-6002-49af-84ab-b490aa13803b",
   "metadata": {},
   "outputs": [],
   "source": []
  },
  {
   "cell_type": "code",
   "execution_count": null,
   "id": "75a8ea92-f562-4006-9c1c-02ef559b9e5b",
   "metadata": {},
   "outputs": [],
   "source": []
  },
  {
   "cell_type": "code",
   "execution_count": null,
   "id": "e9963b96-2873-4220-b263-e140a2699b35",
   "metadata": {},
   "outputs": [],
   "source": []
  },
  {
   "cell_type": "code",
   "execution_count": null,
   "id": "d481a3c1-a066-48d6-9836-85444dbb1ce8",
   "metadata": {},
   "outputs": [],
   "source": []
  }
 ],
 "metadata": {
  "kernelspec": {
   "display_name": "Python 3",
   "language": "python",
   "name": "python3"
  },
  "language_info": {
   "codemirror_mode": {
    "name": "ipython",
    "version": 3
   },
   "file_extension": ".py",
   "mimetype": "text/x-python",
   "name": "python",
   "nbconvert_exporter": "python",
   "pygments_lexer": "ipython3",
   "version": "3.8.8"
  }
 },
 "nbformat": 4,
 "nbformat_minor": 5
}
